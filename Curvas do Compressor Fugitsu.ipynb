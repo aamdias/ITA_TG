{
 "cells": [
  {
   "cell_type": "code",
   "execution_count": 24,
   "metadata": {},
   "outputs": [],
   "source": [
    "#Bibliotecas Utilizadas\n",
    "import IPython as IP\n",
    "import CoolProp\n",
    "import CoolProp.CoolProp as CP #Propriedades termodinâmicas\n",
    "import CoolProp.Plots as CPP #Plotando gráficos\n",
    "import numpy as np\n",
    "import pandas as pd\n",
    "import plotly.graph_objects as go\n",
    "import plotly.express as px\n",
    "import seaborn as sns"
   ]
  },
  {
   "cell_type": "markdown",
   "metadata": {},
   "source": [
    "### Gráfico auxiliar mostrando diagrama Ph \n",
    "![](Pressure-enthalpy-diagram-for-a-standard-vapor-compression-cycle-with-four-thermodynamic.png)\n"
   ]
  },
  {
   "cell_type": "code",
   "execution_count": 25,
   "metadata": {},
   "outputs": [
    {
     "data": {
      "text/html": [
       "<div>\n",
       "<style scoped>\n",
       "    .dataframe tbody tr th:only-of-type {\n",
       "        vertical-align: middle;\n",
       "    }\n",
       "\n",
       "    .dataframe tbody tr th {\n",
       "        vertical-align: top;\n",
       "    }\n",
       "\n",
       "    .dataframe thead th {\n",
       "        text-align: right;\n",
       "    }\n",
       "</style>\n",
       "<table border=\"1\" class=\"dataframe\">\n",
       "  <thead>\n",
       "    <tr style=\"text-align: right;\">\n",
       "      <th></th>\n",
       "      <th>Rot</th>\n",
       "      <th>Condicao</th>\n",
       "      <th>T_evap</th>\n",
       "      <th>T_cond</th>\n",
       "      <th>T_sup</th>\n",
       "      <th>T_sub</th>\n",
       "      <th>T_box</th>\n",
       "      <th>T_suc</th>\n",
       "      <th>T_corpo</th>\n",
       "      <th>m</th>\n",
       "      <th>W</th>\n",
       "      <th>delta_h_evap</th>\n",
       "      <th>CAP</th>\n",
       "      <th>COP</th>\n",
       "      <th>rho</th>\n",
       "      <th>m_ideal</th>\n",
       "      <th>eta_v</th>\n",
       "      <th>delta_h_comp</th>\n",
       "      <th>W_ise</th>\n",
       "      <th>eta_g</th>\n",
       "    </tr>\n",
       "    <tr>\n",
       "      <th>ID</th>\n",
       "      <th></th>\n",
       "      <th></th>\n",
       "      <th></th>\n",
       "      <th></th>\n",
       "      <th></th>\n",
       "      <th></th>\n",
       "      <th></th>\n",
       "      <th></th>\n",
       "      <th></th>\n",
       "      <th></th>\n",
       "      <th></th>\n",
       "      <th></th>\n",
       "      <th></th>\n",
       "      <th></th>\n",
       "      <th></th>\n",
       "      <th></th>\n",
       "      <th></th>\n",
       "      <th></th>\n",
       "      <th></th>\n",
       "      <th></th>\n",
       "    </tr>\n",
       "  </thead>\n",
       "  <tbody>\n",
       "    <tr>\n",
       "      <th>1</th>\n",
       "      <td>3000</td>\n",
       "      <td>A</td>\n",
       "      <td>5.0</td>\n",
       "      <td>45.0</td>\n",
       "      <td>10.0</td>\n",
       "      <td>35.0</td>\n",
       "      <td>35</td>\n",
       "      <td>10.0</td>\n",
       "      <td>68.42</td>\n",
       "      <td>84.30</td>\n",
       "      <td>963.82</td>\n",
       "      <td>171700</td>\n",
       "      <td>4020.49</td>\n",
       "      <td>4.17</td>\n",
       "      <td>34.71</td>\n",
       "      <td>93.73</td>\n",
       "      <td>0.90</td>\n",
       "      <td>30.06</td>\n",
       "      <td>703.88</td>\n",
       "      <td>0.73</td>\n",
       "    </tr>\n",
       "    <tr>\n",
       "      <th>2</th>\n",
       "      <td>3000</td>\n",
       "      <td>B</td>\n",
       "      <td>5.0</td>\n",
       "      <td>60.0</td>\n",
       "      <td>10.0</td>\n",
       "      <td>35.0</td>\n",
       "      <td>35</td>\n",
       "      <td>10.0</td>\n",
       "      <td>85.23</td>\n",
       "      <td>79.40</td>\n",
       "      <td>1312.87</td>\n",
       "      <td>172540</td>\n",
       "      <td>3805.38</td>\n",
       "      <td>2.90</td>\n",
       "      <td>34.71</td>\n",
       "      <td>93.73</td>\n",
       "      <td>0.85</td>\n",
       "      <td>39.97</td>\n",
       "      <td>881.54</td>\n",
       "      <td>0.67</td>\n",
       "    </tr>\n",
       "    <tr>\n",
       "      <th>3</th>\n",
       "      <td>3000</td>\n",
       "      <td>C</td>\n",
       "      <td>15.0</td>\n",
       "      <td>45.0</td>\n",
       "      <td>20.0</td>\n",
       "      <td>35.0</td>\n",
       "      <td>35</td>\n",
       "      <td>20.0</td>\n",
       "      <td>62.96</td>\n",
       "      <td>117.76</td>\n",
       "      <td>944.62</td>\n",
       "      <td>174420</td>\n",
       "      <td>5705.38</td>\n",
       "      <td>6.04</td>\n",
       "      <td>47.09</td>\n",
       "      <td>127.13</td>\n",
       "      <td>0.93</td>\n",
       "      <td>21.20</td>\n",
       "      <td>693.46</td>\n",
       "      <td>0.73</td>\n",
       "    </tr>\n",
       "    <tr>\n",
       "      <th>4</th>\n",
       "      <td>3000</td>\n",
       "      <td>D</td>\n",
       "      <td>15.0</td>\n",
       "      <td>60.0</td>\n",
       "      <td>20.0</td>\n",
       "      <td>35.0</td>\n",
       "      <td>35</td>\n",
       "      <td>20.0</td>\n",
       "      <td>86.35</td>\n",
       "      <td>111.46</td>\n",
       "      <td>1357.54</td>\n",
       "      <td>175260</td>\n",
       "      <td>5426.39</td>\n",
       "      <td>4.00</td>\n",
       "      <td>47.09</td>\n",
       "      <td>127.13</td>\n",
       "      <td>0.88</td>\n",
       "      <td>30.73</td>\n",
       "      <td>951.46</td>\n",
       "      <td>0.70</td>\n",
       "    </tr>\n",
       "    <tr>\n",
       "      <th>5</th>\n",
       "      <td>3000</td>\n",
       "      <td>E</td>\n",
       "      <td>10.0</td>\n",
       "      <td>45.0</td>\n",
       "      <td>15.0</td>\n",
       "      <td>35.0</td>\n",
       "      <td>35</td>\n",
       "      <td>15.0</td>\n",
       "      <td>68.22</td>\n",
       "      <td>100.14</td>\n",
       "      <td>948.79</td>\n",
       "      <td>173250</td>\n",
       "      <td>4819.27</td>\n",
       "      <td>5.08</td>\n",
       "      <td>40.33</td>\n",
       "      <td>108.88</td>\n",
       "      <td>0.92</td>\n",
       "      <td>25.56</td>\n",
       "      <td>711.00</td>\n",
       "      <td>0.75</td>\n",
       "    </tr>\n",
       "  </tbody>\n",
       "</table>\n",
       "</div>"
      ],
      "text/plain": [
       "     Rot Condicao  T_evap  T_cond  T_sup  T_sub  T_box  T_suc  T_corpo  \\\n",
       "ID                                                                       \n",
       "1   3000        A     5.0    45.0   10.0   35.0     35   10.0    68.42   \n",
       "2   3000        B     5.0    60.0   10.0   35.0     35   10.0    85.23   \n",
       "3   3000        C    15.0    45.0   20.0   35.0     35   20.0    62.96   \n",
       "4   3000        D    15.0    60.0   20.0   35.0     35   20.0    86.35   \n",
       "5   3000        E    10.0    45.0   15.0   35.0     35   15.0    68.22   \n",
       "\n",
       "         m        W  delta_h_evap      CAP   COP    rho  m_ideal  eta_v  \\\n",
       "ID                                                                        \n",
       "1    84.30   963.82        171700  4020.49  4.17  34.71    93.73   0.90   \n",
       "2    79.40  1312.87        172540  3805.38  2.90  34.71    93.73   0.85   \n",
       "3   117.76   944.62        174420  5705.38  6.04  47.09   127.13   0.93   \n",
       "4   111.46  1357.54        175260  5426.39  4.00  47.09   127.13   0.88   \n",
       "5   100.14   948.79        173250  4819.27  5.08  40.33   108.88   0.92   \n",
       "\n",
       "    delta_h_comp   W_ise  eta_g  \n",
       "ID                               \n",
       "1          30.06  703.88   0.73  \n",
       "2          39.97  881.54   0.67  \n",
       "3          21.20  693.46   0.73  \n",
       "4          30.73  951.46   0.70  \n",
       "5          25.56  711.00   0.75  "
      ]
     },
     "execution_count": 25,
     "metadata": {},
     "output_type": "execute_result"
    }
   ],
   "source": [
    "# Importando dados do compressor\n",
    "compressor_data = pd.read_csv('Dados_Compressor.csv',sep=';',index_col='ID',decimal=',')\n",
    "\n",
    "# Vendo as primeiras linhas\n",
    "compressor_data.head()"
   ]
  },
  {
   "cell_type": "markdown",
   "metadata": {},
   "source": [
    "### Significado de cada coluna\n",
    "\n",
    "`Rot` _Indica a rotação do compressor_ (RPM)\n",
    "\n",
    "`Condicao` _Indicador de uma condição de super-aquecimento e sub-resfriamento_ (-)\n",
    "\n",
    "`T_evap` _Temperatura de Evaporação_ (ºC)\n",
    "\n",
    "`T_cond` _Temperatura de Condensação_ (ºC)\n",
    "\n",
    "`T_sup` _Temperatura de Super-aquecimento_ (ºC)\n",
    "\n",
    "`T_sub` _Temperatura de Sub-resfriamento_ (ºC)\n",
    "\n",
    "`T_box` _Temperatura da (...)_ (ºC)\n",
    "\n",
    "`T_suc` _Temperatura de (...)_ (ºC)\n",
    "\n",
    "`T_corpo` _Temperatura do (...)_ (ºC)\n",
    "\n",
    "`m` _Vazão mássica real_ (Kg/h) \n",
    "\n",
    "`W` _Potência Elétrica consumida pelo Compressor - real_ (W)\n",
    "\n",
    "`delta_h_evap` _Variacão de entalpia no evaporador_ (J/kg)\n",
    "\n",
    "`CAP` _Capacidade de refrigeração do evaporador_ (W)\n",
    "\n",
    "`COP` _COP do sistema_ (-)\n",
    "\n",
    "`rho` _Densidade do fluido refrigerante_ (kg/m3)\n",
    "\n",
    "`m_ideal` _Vazão mássica ideal_ (Kg/h)\n",
    "\n",
    "`eta_v` _Rendimento Volumétrico do Compressor_ (-)\n",
    "\n",
    "`delta_h_comp` _Variação de entalpia no compressor_ (J/kg)\n",
    "\n",
    "`W_ise` _Potência Elétrica consumida pelo Compressor - ideal_ (W)\n",
    "\n",
    "`eta_g` _Rendimento Global do Compressor_ (-)\n"
   ]
  },
  {
   "cell_type": "markdown",
   "metadata": {},
   "source": [
    "### Montado a tabela com os dados de desempenho do Compressor"
   ]
  },
  {
   "cell_type": "code",
   "execution_count": 26,
   "metadata": {},
   "outputs": [],
   "source": [
    "# Setando Líquido Refrigerante a ser trabalhado\n",
    "coolant = 'R410A'\n",
    "\n",
    "# Criando DataFrame para armazenar resultados relativos a esse líquido refrigenrante\n",
    "target_data = pd.DataFrame()\n",
    "\n",
    "# Colunas que permanecem inalteradas\n",
    "target_data['Rot'] = compressor_data['Rot']\n",
    "target_data['Condicao'] = compressor_data['Condicao']\n",
    "target_data['T_evap'] = compressor_data['T_evap']\n",
    "target_data['T_cond'] = compressor_data['T_cond']\n",
    "target_data['T_sup'] = compressor_data['T_sup']\n",
    "target_data['T_sub'] = compressor_data['T_sub']\n",
    "target_data['CAP'] = compressor_data['CAP']\n",
    "target_data['W'] = compressor_data['W'] # Trabalho Real do compressor\n",
    "target_data['V_cil'] = 15e-6 # Acrescentando o volume do cilindro do compressor"
   ]
  },
  {
   "cell_type": "code",
   "execution_count": 27,
   "metadata": {},
   "outputs": [
    {
     "data": {
      "text/html": [
       "<div>\n",
       "<style scoped>\n",
       "    .dataframe tbody tr th:only-of-type {\n",
       "        vertical-align: middle;\n",
       "    }\n",
       "\n",
       "    .dataframe tbody tr th {\n",
       "        vertical-align: top;\n",
       "    }\n",
       "\n",
       "    .dataframe thead th {\n",
       "        text-align: right;\n",
       "    }\n",
       "</style>\n",
       "<table border=\"1\" class=\"dataframe\">\n",
       "  <thead>\n",
       "    <tr style=\"text-align: right;\">\n",
       "      <th></th>\n",
       "      <th>Rot</th>\n",
       "      <th>Condicao</th>\n",
       "      <th>T_evap</th>\n",
       "      <th>T_cond</th>\n",
       "      <th>T_sup</th>\n",
       "      <th>T_sub</th>\n",
       "      <th>CAP</th>\n",
       "      <th>W</th>\n",
       "      <th>V_cil</th>\n",
       "    </tr>\n",
       "    <tr>\n",
       "      <th>ID</th>\n",
       "      <th></th>\n",
       "      <th></th>\n",
       "      <th></th>\n",
       "      <th></th>\n",
       "      <th></th>\n",
       "      <th></th>\n",
       "      <th></th>\n",
       "      <th></th>\n",
       "      <th></th>\n",
       "    </tr>\n",
       "  </thead>\n",
       "  <tbody>\n",
       "    <tr>\n",
       "      <th>1</th>\n",
       "      <td>3000</td>\n",
       "      <td>A</td>\n",
       "      <td>5.0</td>\n",
       "      <td>45.0</td>\n",
       "      <td>10.0</td>\n",
       "      <td>35.0</td>\n",
       "      <td>4020.49</td>\n",
       "      <td>963.82</td>\n",
       "      <td>0.000015</td>\n",
       "    </tr>\n",
       "    <tr>\n",
       "      <th>2</th>\n",
       "      <td>3000</td>\n",
       "      <td>B</td>\n",
       "      <td>5.0</td>\n",
       "      <td>60.0</td>\n",
       "      <td>10.0</td>\n",
       "      <td>35.0</td>\n",
       "      <td>3805.38</td>\n",
       "      <td>1312.87</td>\n",
       "      <td>0.000015</td>\n",
       "    </tr>\n",
       "    <tr>\n",
       "      <th>3</th>\n",
       "      <td>3000</td>\n",
       "      <td>C</td>\n",
       "      <td>15.0</td>\n",
       "      <td>45.0</td>\n",
       "      <td>20.0</td>\n",
       "      <td>35.0</td>\n",
       "      <td>5705.38</td>\n",
       "      <td>944.62</td>\n",
       "      <td>0.000015</td>\n",
       "    </tr>\n",
       "    <tr>\n",
       "      <th>4</th>\n",
       "      <td>3000</td>\n",
       "      <td>D</td>\n",
       "      <td>15.0</td>\n",
       "      <td>60.0</td>\n",
       "      <td>20.0</td>\n",
       "      <td>35.0</td>\n",
       "      <td>5426.39</td>\n",
       "      <td>1357.54</td>\n",
       "      <td>0.000015</td>\n",
       "    </tr>\n",
       "    <tr>\n",
       "      <th>5</th>\n",
       "      <td>3000</td>\n",
       "      <td>E</td>\n",
       "      <td>10.0</td>\n",
       "      <td>45.0</td>\n",
       "      <td>15.0</td>\n",
       "      <td>35.0</td>\n",
       "      <td>4819.27</td>\n",
       "      <td>948.79</td>\n",
       "      <td>0.000015</td>\n",
       "    </tr>\n",
       "  </tbody>\n",
       "</table>\n",
       "</div>"
      ],
      "text/plain": [
       "     Rot Condicao  T_evap  T_cond  T_sup  T_sub      CAP        W     V_cil\n",
       "ID                                                                         \n",
       "1   3000        A     5.0    45.0   10.0   35.0  4020.49   963.82  0.000015\n",
       "2   3000        B     5.0    60.0   10.0   35.0  3805.38  1312.87  0.000015\n",
       "3   3000        C    15.0    45.0   20.0   35.0  5705.38   944.62  0.000015\n",
       "4   3000        D    15.0    60.0   20.0   35.0  5426.39  1357.54  0.000015\n",
       "5   3000        E    10.0    45.0   15.0   35.0  4819.27   948.79  0.000015"
      ]
     },
     "execution_count": 27,
     "metadata": {},
     "output_type": "execute_result"
    }
   ],
   "source": [
    "target_data.head()"
   ]
  },
  {
   "cell_type": "code",
   "execution_count": 19,
   "metadata": {},
   "outputs": [],
   "source": [
    "# Colunas calculadas a partir das colunas iniciais\n",
    "target_data['P_evap'] = [CP.PropsSI('P','Q',1,'T',T+273.15,coolant) \n",
    "                         for T in target_data['T_evap']] # Pressão de Evaporação\n",
    "target_data['P_cond'] = [CP.PropsSI('P','Q',1,'T',T+273.15,coolant) \n",
    "                         for T in target_data['T_cond']] # Pressão de Condensação\n",
    "target_data['RP'] = target_data['P_cond']/target_data['P_evap'] # Razão entre as pressões\n",
    "\n",
    "target_data['h_1'] = [CP.PropsSI('H','T',target_data['T_sup'].iloc[index]+273.15,'P',\n",
    "                                 target_data['P_evap'].iloc[index],coolant) for index \n",
    "                                  in list(target_data.index - 1)] # Entalpia no ponto 1\n",
    "target_data['h_3'] = [CP.PropsSI('H','T',target_data['T_sub'].iloc[index]+273.15,'P',\n",
    "                                 target_data['P_cond'].iloc[index],coolant) for index\n",
    "                                  in list(target_data.index - 1)] # Entalpia no ponto 3\n",
    "\n",
    "target_data['m'] = [target_data['CAP'].iloc[index]/(target_data['h_1'].iloc[index] - target_data['h_3'].iloc[index]) \n",
    "                    for index in list(target_data.index - 1)] # Vazão mássica real\n",
    "\n",
    "target_data['v_1'] = [1/(CP.PropsSI('D','T',target_data['T_sup'].iloc[i]+273.15,'P',target_data['P_evap'].iloc[i],coolant)) \n",
    "                      for i in list(target_data.index - 1)] # Volume Específico no ponto 1\n",
    "\n",
    "target_data['eta_v'] = (target_data['m']*target_data['v_1']*60)/(target_data['Rot']*target_data['V_cil']) # Efic. Vol.\n",
    "\n",
    "target_data['s_1'] = [CP.PropsSI('S','T',target_data['T_sup'].iloc[i]+273.15,\n",
    "                                'P',target_data['P_evap'].iloc[i],coolant)\n",
    "                                for i in list(target_data.index - 1)] # Entropia no ponto 1\n",
    "\n",
    "target_data['h_2s'] = [CP.PropsSI('H','S',target_data['s_1'].iloc[index],'P',\n",
    "                                 target_data['P_cond'].iloc[index],coolant) for index \n",
    "                                  in list(target_data.index - 1)] # Entalpia isentrópica no ponto 2\n",
    "\n",
    "target_data['W_s'] = target_data['m']*(target_data['h_2s'] - target_data['h_1']) # Trabalho Isentrópico\n",
    "\n",
    "target_data['eta_g'] = target_data['W_s']/target_data['W'] # Eficiência Volumétrica\n",
    "\n",
    "target_data['Sigma'] = target_data['Rot']/4800 # Razão entre as rotações"
   ]
  },
  {
   "cell_type": "markdown",
   "metadata": {},
   "source": [
    "### Overview da Tabela"
   ]
  },
  {
   "cell_type": "code",
   "execution_count": 20,
   "metadata": {},
   "outputs": [
    {
     "data": {
      "text/html": [
       "<div>\n",
       "<style scoped>\n",
       "    .dataframe tbody tr th:only-of-type {\n",
       "        vertical-align: middle;\n",
       "    }\n",
       "\n",
       "    .dataframe tbody tr th {\n",
       "        vertical-align: top;\n",
       "    }\n",
       "\n",
       "    .dataframe thead th {\n",
       "        text-align: right;\n",
       "    }\n",
       "</style>\n",
       "<table border=\"1\" class=\"dataframe\">\n",
       "  <thead>\n",
       "    <tr style=\"text-align: right;\">\n",
       "      <th></th>\n",
       "      <th>Rot</th>\n",
       "      <th>Condicao</th>\n",
       "      <th>T_evap</th>\n",
       "      <th>T_cond</th>\n",
       "      <th>T_sup</th>\n",
       "      <th>T_sub</th>\n",
       "      <th>CAP</th>\n",
       "      <th>W</th>\n",
       "      <th>V_cil</th>\n",
       "      <th>P_evap</th>\n",
       "      <th>...</th>\n",
       "      <th>h_1</th>\n",
       "      <th>h_3</th>\n",
       "      <th>m</th>\n",
       "      <th>v_1</th>\n",
       "      <th>eta_v</th>\n",
       "      <th>s_1</th>\n",
       "      <th>h_2s</th>\n",
       "      <th>W_s</th>\n",
       "      <th>eta_g</th>\n",
       "      <th>Sigma</th>\n",
       "    </tr>\n",
       "    <tr>\n",
       "      <th>ID</th>\n",
       "      <th></th>\n",
       "      <th></th>\n",
       "      <th></th>\n",
       "      <th></th>\n",
       "      <th></th>\n",
       "      <th></th>\n",
       "      <th></th>\n",
       "      <th></th>\n",
       "      <th></th>\n",
       "      <th></th>\n",
       "      <th></th>\n",
       "      <th></th>\n",
       "      <th></th>\n",
       "      <th></th>\n",
       "      <th></th>\n",
       "      <th></th>\n",
       "      <th></th>\n",
       "      <th></th>\n",
       "      <th></th>\n",
       "      <th></th>\n",
       "      <th></th>\n",
       "    </tr>\n",
       "  </thead>\n",
       "  <tbody>\n",
       "    <tr>\n",
       "      <th>1</th>\n",
       "      <td>3000</td>\n",
       "      <td>A</td>\n",
       "      <td>5.0</td>\n",
       "      <td>45.0</td>\n",
       "      <td>10.0</td>\n",
       "      <td>35.0</td>\n",
       "      <td>4020.49</td>\n",
       "      <td>963.82</td>\n",
       "      <td>0.000015</td>\n",
       "      <td>9.331762e+05</td>\n",
       "      <td>...</td>\n",
       "      <td>428538.488837</td>\n",
       "      <td>256662.500668</td>\n",
       "      <td>0.023392</td>\n",
       "      <td>0.028925</td>\n",
       "      <td>0.902131</td>\n",
       "      <td>1821.361804</td>\n",
       "      <td>458636.510922</td>\n",
       "      <td>704.047134</td>\n",
       "      <td>0.730476</td>\n",
       "      <td>0.625</td>\n",
       "    </tr>\n",
       "    <tr>\n",
       "      <th>2</th>\n",
       "      <td>3000</td>\n",
       "      <td>B</td>\n",
       "      <td>5.0</td>\n",
       "      <td>60.0</td>\n",
       "      <td>10.0</td>\n",
       "      <td>35.0</td>\n",
       "      <td>3805.38</td>\n",
       "      <td>1312.87</td>\n",
       "      <td>0.000015</td>\n",
       "      <td>9.331762e+05</td>\n",
       "      <td>...</td>\n",
       "      <td>428538.488837</td>\n",
       "      <td>255826.800678</td>\n",
       "      <td>0.022033</td>\n",
       "      <td>0.028925</td>\n",
       "      <td>0.849732</td>\n",
       "      <td>1821.361804</td>\n",
       "      <td>468570.248650</td>\n",
       "      <td>882.025182</td>\n",
       "      <td>0.671830</td>\n",
       "      <td>0.625</td>\n",
       "    </tr>\n",
       "    <tr>\n",
       "      <th>3</th>\n",
       "      <td>3000</td>\n",
       "      <td>C</td>\n",
       "      <td>15.0</td>\n",
       "      <td>45.0</td>\n",
       "      <td>20.0</td>\n",
       "      <td>35.0</td>\n",
       "      <td>5705.38</td>\n",
       "      <td>944.62</td>\n",
       "      <td>0.000015</td>\n",
       "      <td>1.254290e+06</td>\n",
       "      <td>...</td>\n",
       "      <td>431305.922776</td>\n",
       "      <td>256662.500668</td>\n",
       "      <td>0.032669</td>\n",
       "      <td>0.021332</td>\n",
       "      <td>0.929205</td>\n",
       "      <td>1803.362680</td>\n",
       "      <td>452557.513419</td>\n",
       "      <td>694.262622</td>\n",
       "      <td>0.734965</td>\n",
       "      <td>0.625</td>\n",
       "    </tr>\n",
       "    <tr>\n",
       "      <th>4</th>\n",
       "      <td>3000</td>\n",
       "      <td>D</td>\n",
       "      <td>15.0</td>\n",
       "      <td>60.0</td>\n",
       "      <td>20.0</td>\n",
       "      <td>35.0</td>\n",
       "      <td>5426.39</td>\n",
       "      <td>1357.54</td>\n",
       "      <td>0.000015</td>\n",
       "      <td>1.254290e+06</td>\n",
       "      <td>...</td>\n",
       "      <td>431305.922776</td>\n",
       "      <td>255826.800678</td>\n",
       "      <td>0.030923</td>\n",
       "      <td>0.021332</td>\n",
       "      <td>0.879559</td>\n",
       "      <td>1803.362680</td>\n",
       "      <td>462116.091576</td>\n",
       "      <td>952.751472</td>\n",
       "      <td>0.701822</td>\n",
       "      <td>0.625</td>\n",
       "    </tr>\n",
       "    <tr>\n",
       "      <th>5</th>\n",
       "      <td>3000</td>\n",
       "      <td>E</td>\n",
       "      <td>10.0</td>\n",
       "      <td>45.0</td>\n",
       "      <td>15.0</td>\n",
       "      <td>35.0</td>\n",
       "      <td>4819.27</td>\n",
       "      <td>948.79</td>\n",
       "      <td>0.000015</td>\n",
       "      <td>1.084818e+06</td>\n",
       "      <td>...</td>\n",
       "      <td>430015.304860</td>\n",
       "      <td>256662.500668</td>\n",
       "      <td>0.027800</td>\n",
       "      <td>0.024799</td>\n",
       "      <td>0.919246</td>\n",
       "      <td>1812.324407</td>\n",
       "      <td>455574.246240</td>\n",
       "      <td>710.547718</td>\n",
       "      <td>0.748899</td>\n",
       "      <td>0.625</td>\n",
       "    </tr>\n",
       "    <tr>\n",
       "      <th>6</th>\n",
       "      <td>3000</td>\n",
       "      <td>F</td>\n",
       "      <td>10.0</td>\n",
       "      <td>60.0</td>\n",
       "      <td>15.0</td>\n",
       "      <td>35.0</td>\n",
       "      <td>4566.69</td>\n",
       "      <td>1330.93</td>\n",
       "      <td>0.000015</td>\n",
       "      <td>1.084818e+06</td>\n",
       "      <td>...</td>\n",
       "      <td>430015.304860</td>\n",
       "      <td>255826.800678</td>\n",
       "      <td>0.026217</td>\n",
       "      <td>0.024799</td>\n",
       "      <td>0.866889</td>\n",
       "      <td>1812.324407</td>\n",
       "      <td>465319.851393</td>\n",
       "      <td>925.577267</td>\n",
       "      <td>0.695436</td>\n",
       "      <td>0.625</td>\n",
       "    </tr>\n",
       "    <tr>\n",
       "      <th>7</th>\n",
       "      <td>3000</td>\n",
       "      <td>G</td>\n",
       "      <td>5.0</td>\n",
       "      <td>50.0</td>\n",
       "      <td>10.0</td>\n",
       "      <td>35.0</td>\n",
       "      <td>3961.33</td>\n",
       "      <td>1067.31</td>\n",
       "      <td>0.000015</td>\n",
       "      <td>9.331762e+05</td>\n",
       "      <td>...</td>\n",
       "      <td>428538.488837</td>\n",
       "      <td>256386.384387</td>\n",
       "      <td>0.023011</td>\n",
       "      <td>0.028925</td>\n",
       "      <td>0.887430</td>\n",
       "      <td>1821.361804</td>\n",
       "      <td>462014.407581</td>\n",
       "      <td>770.302295</td>\n",
       "      <td>0.721723</td>\n",
       "      <td>0.625</td>\n",
       "    </tr>\n",
       "    <tr>\n",
       "      <th>8</th>\n",
       "      <td>3000</td>\n",
       "      <td>H</td>\n",
       "      <td>10.0</td>\n",
       "      <td>50.0</td>\n",
       "      <td>15.0</td>\n",
       "      <td>35.0</td>\n",
       "      <td>4745.37</td>\n",
       "      <td>1071.97</td>\n",
       "      <td>0.000015</td>\n",
       "      <td>1.084818e+06</td>\n",
       "      <td>...</td>\n",
       "      <td>430015.304860</td>\n",
       "      <td>256386.384387</td>\n",
       "      <td>0.027331</td>\n",
       "      <td>0.024799</td>\n",
       "      <td>0.903711</td>\n",
       "      <td>1812.324407</td>\n",
       "      <td>458889.310960</td>\n",
       "      <td>789.141820</td>\n",
       "      <td>0.736160</td>\n",
       "      <td>0.625</td>\n",
       "    </tr>\n",
       "    <tr>\n",
       "      <th>9</th>\n",
       "      <td>3000</td>\n",
       "      <td>I</td>\n",
       "      <td>15.0</td>\n",
       "      <td>50.0</td>\n",
       "      <td>20.0</td>\n",
       "      <td>35.0</td>\n",
       "      <td>5662.18</td>\n",
       "      <td>1062.17</td>\n",
       "      <td>0.000015</td>\n",
       "      <td>1.254290e+06</td>\n",
       "      <td>...</td>\n",
       "      <td>431305.922776</td>\n",
       "      <td>256386.384387</td>\n",
       "      <td>0.032370</td>\n",
       "      <td>0.021332</td>\n",
       "      <td>0.920714</td>\n",
       "      <td>1803.362680</td>\n",
       "      <td>455810.126532</td>\n",
       "      <td>793.205915</td>\n",
       "      <td>0.746779</td>\n",
       "      <td>0.625</td>\n",
       "    </tr>\n",
       "    <tr>\n",
       "      <th>10</th>\n",
       "      <td>3000</td>\n",
       "      <td>Check-Point</td>\n",
       "      <td>7.2</td>\n",
       "      <td>54.4</td>\n",
       "      <td>18.3</td>\n",
       "      <td>46.1</td>\n",
       "      <td>3757.66</td>\n",
       "      <td>1184.25</td>\n",
       "      <td>0.000015</td>\n",
       "      <td>9.977855e+05</td>\n",
       "      <td>...</td>\n",
       "      <td>435959.041433</td>\n",
       "      <td>276931.545806</td>\n",
       "      <td>0.023629</td>\n",
       "      <td>0.028153</td>\n",
       "      <td>0.886983</td>\n",
       "      <td>1840.775400</td>\n",
       "      <td>471830.782683</td>\n",
       "      <td>847.613217</td>\n",
       "      <td>0.715738</td>\n",
       "      <td>0.625</td>\n",
       "    </tr>\n",
       "  </tbody>\n",
       "</table>\n",
       "<p>10 rows × 22 columns</p>\n",
       "</div>"
      ],
      "text/plain": [
       "     Rot     Condicao  T_evap  T_cond  T_sup  T_sub      CAP        W  \\\n",
       "ID                                                                      \n",
       "1   3000            A     5.0    45.0   10.0   35.0  4020.49   963.82   \n",
       "2   3000            B     5.0    60.0   10.0   35.0  3805.38  1312.87   \n",
       "3   3000            C    15.0    45.0   20.0   35.0  5705.38   944.62   \n",
       "4   3000            D    15.0    60.0   20.0   35.0  5426.39  1357.54   \n",
       "5   3000            E    10.0    45.0   15.0   35.0  4819.27   948.79   \n",
       "6   3000            F    10.0    60.0   15.0   35.0  4566.69  1330.93   \n",
       "7   3000            G     5.0    50.0   10.0   35.0  3961.33  1067.31   \n",
       "8   3000            H    10.0    50.0   15.0   35.0  4745.37  1071.97   \n",
       "9   3000            I    15.0    50.0   20.0   35.0  5662.18  1062.17   \n",
       "10  3000  Check-Point     7.2    54.4   18.3   46.1  3757.66  1184.25   \n",
       "\n",
       "       V_cil        P_evap  ...            h_1            h_3         m  \\\n",
       "ID                          ...                                           \n",
       "1   0.000015  9.331762e+05  ...  428538.488837  256662.500668  0.023392   \n",
       "2   0.000015  9.331762e+05  ...  428538.488837  255826.800678  0.022033   \n",
       "3   0.000015  1.254290e+06  ...  431305.922776  256662.500668  0.032669   \n",
       "4   0.000015  1.254290e+06  ...  431305.922776  255826.800678  0.030923   \n",
       "5   0.000015  1.084818e+06  ...  430015.304860  256662.500668  0.027800   \n",
       "6   0.000015  1.084818e+06  ...  430015.304860  255826.800678  0.026217   \n",
       "7   0.000015  9.331762e+05  ...  428538.488837  256386.384387  0.023011   \n",
       "8   0.000015  1.084818e+06  ...  430015.304860  256386.384387  0.027331   \n",
       "9   0.000015  1.254290e+06  ...  431305.922776  256386.384387  0.032370   \n",
       "10  0.000015  9.977855e+05  ...  435959.041433  276931.545806  0.023629   \n",
       "\n",
       "         v_1     eta_v          s_1           h_2s         W_s     eta_g  \\\n",
       "ID                                                                         \n",
       "1   0.028925  0.902131  1821.361804  458636.510922  704.047134  0.730476   \n",
       "2   0.028925  0.849732  1821.361804  468570.248650  882.025182  0.671830   \n",
       "3   0.021332  0.929205  1803.362680  452557.513419  694.262622  0.734965   \n",
       "4   0.021332  0.879559  1803.362680  462116.091576  952.751472  0.701822   \n",
       "5   0.024799  0.919246  1812.324407  455574.246240  710.547718  0.748899   \n",
       "6   0.024799  0.866889  1812.324407  465319.851393  925.577267  0.695436   \n",
       "7   0.028925  0.887430  1821.361804  462014.407581  770.302295  0.721723   \n",
       "8   0.024799  0.903711  1812.324407  458889.310960  789.141820  0.736160   \n",
       "9   0.021332  0.920714  1803.362680  455810.126532  793.205915  0.746779   \n",
       "10  0.028153  0.886983  1840.775400  471830.782683  847.613217  0.715738   \n",
       "\n",
       "    Sigma  \n",
       "ID         \n",
       "1   0.625  \n",
       "2   0.625  \n",
       "3   0.625  \n",
       "4   0.625  \n",
       "5   0.625  \n",
       "6   0.625  \n",
       "7   0.625  \n",
       "8   0.625  \n",
       "9   0.625  \n",
       "10  0.625  \n",
       "\n",
       "[10 rows x 22 columns]"
      ]
     },
     "execution_count": 20,
     "metadata": {},
     "output_type": "execute_result"
    }
   ],
   "source": [
    "# Descomentar esse trecho para criar um data report\n",
    "## Importando biblioteca\n",
    "#from pandas_profiling import ProfileReport\n",
    "#profile = ProfileReport(target_data, title='Compressor Modeling',html={'style':{'full_width':True}})\n",
    "#\n",
    "## Mostrando report dos dados\n",
    "#profile\n",
    "\n",
    "# Overview simples\n",
    "target_data.head(10)"
   ]
  },
  {
   "cell_type": "markdown",
   "metadata": {},
   "source": [
    "### Reordenando as linhas da tabela (Ordem crescente de RP)"
   ]
  },
  {
   "cell_type": "code",
   "execution_count": 21,
   "metadata": {},
   "outputs": [],
   "source": [
    "# Data Sorting\n",
    "target_data.sort_values(by='RP', axis=0, ascending=True, inplace=True, kind='quicksort', na_position='last')"
   ]
  },
  {
   "cell_type": "markdown",
   "metadata": {},
   "source": [
    "### Plotagem dos Gráficos"
   ]
  },
  {
   "cell_type": "code",
   "execution_count": 22,
   "metadata": {},
   "outputs": [
    {
     "data": {
      "application/vnd.plotly.v1+json": {
       "config": {
        "plotlyServerURL": "https://plot.ly"
       },
       "data": [
        {
         "line": {
          "shape": "spline"
         },
         "name": "Rotação 3000",
         "type": "scatter",
         "x": [
          2.1734463456708157,
          2.442014220439523,
          2.512983661303602,
          2.8235073982199093,
          2.9213466051986,
          3.057370373133243,
          3.2823308322920055,
          3.393116386359361,
          3.3984769550946323,
          3.53499492156371,
          4.109435955563423
         ],
         "y": [
          0.929205244248435,
          0.9207138123180497,
          0.9192460111438059,
          0.9037106122860279,
          0.9021305171156037,
          0.8795587638598279,
          0.8874303614566112,
          0.8869829315481232,
          0.892362206878119,
          0.8668888332559119,
          0.8497318525685688
         ]
        },
        {
         "line": {
          "shape": "spline"
         },
         "name": "Rotação 4000",
         "type": "scatter",
         "x": [
          2.1734463456708157,
          2.442014220439523,
          2.512983661303602,
          2.8235073982199093,
          2.9213466051986,
          3.057370373133243,
          3.2823308322920055,
          3.393116386359361,
          3.3984769550946323,
          3.53499492156371,
          4.109435955563423
         ],
         "y": [
          0.9620444765912468,
          0.9587709144270335,
          0.9531817225601867,
          0.944317286856122,
          0.9362889365985029,
          0.9240793764166968,
          0.9348712232554925,
          0.9248731345393744,
          0.9329245016461853,
          0.9126142963227286,
          0.8811045935185534
         ]
        },
        {
         "line": {
          "shape": "spline"
         },
         "name": "Rotação 4800",
         "type": "scatter",
         "x": [
          2.1734463456708157,
          2.442014220439523,
          2.512983661303602,
          2.8235073982199093,
          2.9213466051986,
          3.057370373133243,
          3.2823308322920055,
          3.393116386359361,
          3.3984769550946323,
          3.53499492156371,
          4.109435955563423
         ],
         "y": [
          0.9743556260535604,
          0.972093969384667,
          0.9664441409668809,
          0.9609996361772479,
          0.9517719401645531,
          0.9398129617857846,
          0.9523063994352767,
          0.9506467696120192,
          0.9574702086604259,
          0.935053472565718,
          0.9133733156999606
         ]
        }
       ],
       "layout": {
        "hoverlabel": {
         "font": {
          "size": 16
         }
        },
        "hovermode": "x",
        "template": {
         "data": {
          "bar": [
           {
            "error_x": {
             "color": "#2a3f5f"
            },
            "error_y": {
             "color": "#2a3f5f"
            },
            "marker": {
             "line": {
              "color": "#E5ECF6",
              "width": 0.5
             }
            },
            "type": "bar"
           }
          ],
          "barpolar": [
           {
            "marker": {
             "line": {
              "color": "#E5ECF6",
              "width": 0.5
             }
            },
            "type": "barpolar"
           }
          ],
          "carpet": [
           {
            "aaxis": {
             "endlinecolor": "#2a3f5f",
             "gridcolor": "white",
             "linecolor": "white",
             "minorgridcolor": "white",
             "startlinecolor": "#2a3f5f"
            },
            "baxis": {
             "endlinecolor": "#2a3f5f",
             "gridcolor": "white",
             "linecolor": "white",
             "minorgridcolor": "white",
             "startlinecolor": "#2a3f5f"
            },
            "type": "carpet"
           }
          ],
          "choropleth": [
           {
            "colorbar": {
             "outlinewidth": 0,
             "ticks": ""
            },
            "type": "choropleth"
           }
          ],
          "contour": [
           {
            "colorbar": {
             "outlinewidth": 0,
             "ticks": ""
            },
            "colorscale": [
             [
              0,
              "#0d0887"
             ],
             [
              0.1111111111111111,
              "#46039f"
             ],
             [
              0.2222222222222222,
              "#7201a8"
             ],
             [
              0.3333333333333333,
              "#9c179e"
             ],
             [
              0.4444444444444444,
              "#bd3786"
             ],
             [
              0.5555555555555556,
              "#d8576b"
             ],
             [
              0.6666666666666666,
              "#ed7953"
             ],
             [
              0.7777777777777778,
              "#fb9f3a"
             ],
             [
              0.8888888888888888,
              "#fdca26"
             ],
             [
              1,
              "#f0f921"
             ]
            ],
            "type": "contour"
           }
          ],
          "contourcarpet": [
           {
            "colorbar": {
             "outlinewidth": 0,
             "ticks": ""
            },
            "type": "contourcarpet"
           }
          ],
          "heatmap": [
           {
            "colorbar": {
             "outlinewidth": 0,
             "ticks": ""
            },
            "colorscale": [
             [
              0,
              "#0d0887"
             ],
             [
              0.1111111111111111,
              "#46039f"
             ],
             [
              0.2222222222222222,
              "#7201a8"
             ],
             [
              0.3333333333333333,
              "#9c179e"
             ],
             [
              0.4444444444444444,
              "#bd3786"
             ],
             [
              0.5555555555555556,
              "#d8576b"
             ],
             [
              0.6666666666666666,
              "#ed7953"
             ],
             [
              0.7777777777777778,
              "#fb9f3a"
             ],
             [
              0.8888888888888888,
              "#fdca26"
             ],
             [
              1,
              "#f0f921"
             ]
            ],
            "type": "heatmap"
           }
          ],
          "heatmapgl": [
           {
            "colorbar": {
             "outlinewidth": 0,
             "ticks": ""
            },
            "colorscale": [
             [
              0,
              "#0d0887"
             ],
             [
              0.1111111111111111,
              "#46039f"
             ],
             [
              0.2222222222222222,
              "#7201a8"
             ],
             [
              0.3333333333333333,
              "#9c179e"
             ],
             [
              0.4444444444444444,
              "#bd3786"
             ],
             [
              0.5555555555555556,
              "#d8576b"
             ],
             [
              0.6666666666666666,
              "#ed7953"
             ],
             [
              0.7777777777777778,
              "#fb9f3a"
             ],
             [
              0.8888888888888888,
              "#fdca26"
             ],
             [
              1,
              "#f0f921"
             ]
            ],
            "type": "heatmapgl"
           }
          ],
          "histogram": [
           {
            "marker": {
             "colorbar": {
              "outlinewidth": 0,
              "ticks": ""
             }
            },
            "type": "histogram"
           }
          ],
          "histogram2d": [
           {
            "colorbar": {
             "outlinewidth": 0,
             "ticks": ""
            },
            "colorscale": [
             [
              0,
              "#0d0887"
             ],
             [
              0.1111111111111111,
              "#46039f"
             ],
             [
              0.2222222222222222,
              "#7201a8"
             ],
             [
              0.3333333333333333,
              "#9c179e"
             ],
             [
              0.4444444444444444,
              "#bd3786"
             ],
             [
              0.5555555555555556,
              "#d8576b"
             ],
             [
              0.6666666666666666,
              "#ed7953"
             ],
             [
              0.7777777777777778,
              "#fb9f3a"
             ],
             [
              0.8888888888888888,
              "#fdca26"
             ],
             [
              1,
              "#f0f921"
             ]
            ],
            "type": "histogram2d"
           }
          ],
          "histogram2dcontour": [
           {
            "colorbar": {
             "outlinewidth": 0,
             "ticks": ""
            },
            "colorscale": [
             [
              0,
              "#0d0887"
             ],
             [
              0.1111111111111111,
              "#46039f"
             ],
             [
              0.2222222222222222,
              "#7201a8"
             ],
             [
              0.3333333333333333,
              "#9c179e"
             ],
             [
              0.4444444444444444,
              "#bd3786"
             ],
             [
              0.5555555555555556,
              "#d8576b"
             ],
             [
              0.6666666666666666,
              "#ed7953"
             ],
             [
              0.7777777777777778,
              "#fb9f3a"
             ],
             [
              0.8888888888888888,
              "#fdca26"
             ],
             [
              1,
              "#f0f921"
             ]
            ],
            "type": "histogram2dcontour"
           }
          ],
          "mesh3d": [
           {
            "colorbar": {
             "outlinewidth": 0,
             "ticks": ""
            },
            "type": "mesh3d"
           }
          ],
          "parcoords": [
           {
            "line": {
             "colorbar": {
              "outlinewidth": 0,
              "ticks": ""
             }
            },
            "type": "parcoords"
           }
          ],
          "pie": [
           {
            "automargin": true,
            "type": "pie"
           }
          ],
          "scatter": [
           {
            "marker": {
             "colorbar": {
              "outlinewidth": 0,
              "ticks": ""
             }
            },
            "type": "scatter"
           }
          ],
          "scatter3d": [
           {
            "line": {
             "colorbar": {
              "outlinewidth": 0,
              "ticks": ""
             }
            },
            "marker": {
             "colorbar": {
              "outlinewidth": 0,
              "ticks": ""
             }
            },
            "type": "scatter3d"
           }
          ],
          "scattercarpet": [
           {
            "marker": {
             "colorbar": {
              "outlinewidth": 0,
              "ticks": ""
             }
            },
            "type": "scattercarpet"
           }
          ],
          "scattergeo": [
           {
            "marker": {
             "colorbar": {
              "outlinewidth": 0,
              "ticks": ""
             }
            },
            "type": "scattergeo"
           }
          ],
          "scattergl": [
           {
            "marker": {
             "colorbar": {
              "outlinewidth": 0,
              "ticks": ""
             }
            },
            "type": "scattergl"
           }
          ],
          "scattermapbox": [
           {
            "marker": {
             "colorbar": {
              "outlinewidth": 0,
              "ticks": ""
             }
            },
            "type": "scattermapbox"
           }
          ],
          "scatterpolar": [
           {
            "marker": {
             "colorbar": {
              "outlinewidth": 0,
              "ticks": ""
             }
            },
            "type": "scatterpolar"
           }
          ],
          "scatterpolargl": [
           {
            "marker": {
             "colorbar": {
              "outlinewidth": 0,
              "ticks": ""
             }
            },
            "type": "scatterpolargl"
           }
          ],
          "scatterternary": [
           {
            "marker": {
             "colorbar": {
              "outlinewidth": 0,
              "ticks": ""
             }
            },
            "type": "scatterternary"
           }
          ],
          "surface": [
           {
            "colorbar": {
             "outlinewidth": 0,
             "ticks": ""
            },
            "colorscale": [
             [
              0,
              "#0d0887"
             ],
             [
              0.1111111111111111,
              "#46039f"
             ],
             [
              0.2222222222222222,
              "#7201a8"
             ],
             [
              0.3333333333333333,
              "#9c179e"
             ],
             [
              0.4444444444444444,
              "#bd3786"
             ],
             [
              0.5555555555555556,
              "#d8576b"
             ],
             [
              0.6666666666666666,
              "#ed7953"
             ],
             [
              0.7777777777777778,
              "#fb9f3a"
             ],
             [
              0.8888888888888888,
              "#fdca26"
             ],
             [
              1,
              "#f0f921"
             ]
            ],
            "type": "surface"
           }
          ],
          "table": [
           {
            "cells": {
             "fill": {
              "color": "#EBF0F8"
             },
             "line": {
              "color": "white"
             }
            },
            "header": {
             "fill": {
              "color": "#C8D4E3"
             },
             "line": {
              "color": "white"
             }
            },
            "type": "table"
           }
          ]
         },
         "layout": {
          "annotationdefaults": {
           "arrowcolor": "#2a3f5f",
           "arrowhead": 0,
           "arrowwidth": 1
          },
          "coloraxis": {
           "colorbar": {
            "outlinewidth": 0,
            "ticks": ""
           }
          },
          "colorscale": {
           "diverging": [
            [
             0,
             "#8e0152"
            ],
            [
             0.1,
             "#c51b7d"
            ],
            [
             0.2,
             "#de77ae"
            ],
            [
             0.3,
             "#f1b6da"
            ],
            [
             0.4,
             "#fde0ef"
            ],
            [
             0.5,
             "#f7f7f7"
            ],
            [
             0.6,
             "#e6f5d0"
            ],
            [
             0.7,
             "#b8e186"
            ],
            [
             0.8,
             "#7fbc41"
            ],
            [
             0.9,
             "#4d9221"
            ],
            [
             1,
             "#276419"
            ]
           ],
           "sequential": [
            [
             0,
             "#0d0887"
            ],
            [
             0.1111111111111111,
             "#46039f"
            ],
            [
             0.2222222222222222,
             "#7201a8"
            ],
            [
             0.3333333333333333,
             "#9c179e"
            ],
            [
             0.4444444444444444,
             "#bd3786"
            ],
            [
             0.5555555555555556,
             "#d8576b"
            ],
            [
             0.6666666666666666,
             "#ed7953"
            ],
            [
             0.7777777777777778,
             "#fb9f3a"
            ],
            [
             0.8888888888888888,
             "#fdca26"
            ],
            [
             1,
             "#f0f921"
            ]
           ],
           "sequentialminus": [
            [
             0,
             "#0d0887"
            ],
            [
             0.1111111111111111,
             "#46039f"
            ],
            [
             0.2222222222222222,
             "#7201a8"
            ],
            [
             0.3333333333333333,
             "#9c179e"
            ],
            [
             0.4444444444444444,
             "#bd3786"
            ],
            [
             0.5555555555555556,
             "#d8576b"
            ],
            [
             0.6666666666666666,
             "#ed7953"
            ],
            [
             0.7777777777777778,
             "#fb9f3a"
            ],
            [
             0.8888888888888888,
             "#fdca26"
            ],
            [
             1,
             "#f0f921"
            ]
           ]
          },
          "colorway": [
           "#636efa",
           "#EF553B",
           "#00cc96",
           "#ab63fa",
           "#FFA15A",
           "#19d3f3",
           "#FF6692",
           "#B6E880",
           "#FF97FF",
           "#FECB52"
          ],
          "font": {
           "color": "#2a3f5f"
          },
          "geo": {
           "bgcolor": "white",
           "lakecolor": "white",
           "landcolor": "#E5ECF6",
           "showlakes": true,
           "showland": true,
           "subunitcolor": "white"
          },
          "hoverlabel": {
           "align": "left"
          },
          "hovermode": "closest",
          "mapbox": {
           "style": "light"
          },
          "paper_bgcolor": "white",
          "plot_bgcolor": "#E5ECF6",
          "polar": {
           "angularaxis": {
            "gridcolor": "white",
            "linecolor": "white",
            "ticks": ""
           },
           "bgcolor": "#E5ECF6",
           "radialaxis": {
            "gridcolor": "white",
            "linecolor": "white",
            "ticks": ""
           }
          },
          "scene": {
           "xaxis": {
            "backgroundcolor": "#E5ECF6",
            "gridcolor": "white",
            "gridwidth": 2,
            "linecolor": "white",
            "showbackground": true,
            "ticks": "",
            "zerolinecolor": "white"
           },
           "yaxis": {
            "backgroundcolor": "#E5ECF6",
            "gridcolor": "white",
            "gridwidth": 2,
            "linecolor": "white",
            "showbackground": true,
            "ticks": "",
            "zerolinecolor": "white"
           },
           "zaxis": {
            "backgroundcolor": "#E5ECF6",
            "gridcolor": "white",
            "gridwidth": 2,
            "linecolor": "white",
            "showbackground": true,
            "ticks": "",
            "zerolinecolor": "white"
           }
          },
          "shapedefaults": {
           "line": {
            "color": "#2a3f5f"
           }
          },
          "ternary": {
           "aaxis": {
            "gridcolor": "white",
            "linecolor": "white",
            "ticks": ""
           },
           "baxis": {
            "gridcolor": "white",
            "linecolor": "white",
            "ticks": ""
           },
           "bgcolor": "#E5ECF6",
           "caxis": {
            "gridcolor": "white",
            "linecolor": "white",
            "ticks": ""
           }
          },
          "title": {
           "x": 0.05
          },
          "xaxis": {
           "automargin": true,
           "gridcolor": "white",
           "linecolor": "white",
           "ticks": "",
           "title": {
            "standoff": 15
           },
           "zerolinecolor": "white",
           "zerolinewidth": 2
          },
          "yaxis": {
           "automargin": true,
           "gridcolor": "white",
           "linecolor": "white",
           "ticks": "",
           "title": {
            "standoff": 15
           },
           "zerolinecolor": "white",
           "zerolinewidth": 2
          }
         }
        },
        "title": {
         "text": "Variação da Eficiência Volumétrica do Compressor com RP"
        },
        "xaxis": {
         "title": {
          "text": "RP (Relação de Pressões Condesador/Evaporador)"
         }
        },
        "yaxis": {
         "title": {
          "text": "Eficiência Volumétrica do Compressor"
         }
        }
       }
      },
      "text/html": [
       "<div>\n",
       "        \n",
       "        \n",
       "            <div id=\"0267a75a-5a05-4235-ab6e-5d60079bba6d\" class=\"plotly-graph-div\" style=\"height:525px; width:100%;\"></div>\n",
       "            <script type=\"text/javascript\">\n",
       "                require([\"plotly\"], function(Plotly) {\n",
       "                    window.PLOTLYENV=window.PLOTLYENV || {};\n",
       "                    \n",
       "                if (document.getElementById(\"0267a75a-5a05-4235-ab6e-5d60079bba6d\")) {\n",
       "                    Plotly.newPlot(\n",
       "                        '0267a75a-5a05-4235-ab6e-5d60079bba6d',\n",
       "                        [{\"line\": {\"shape\": \"spline\"}, \"name\": \"Rota\\u00e7\\u00e3o 3000\", \"type\": \"scatter\", \"x\": [2.1734463456708157, 2.442014220439523, 2.512983661303602, 2.8235073982199093, 2.9213466051986, 3.057370373133243, 3.2823308322920055, 3.393116386359361, 3.3984769550946323, 3.53499492156371, 4.109435955563423], \"y\": [0.929205244248435, 0.9207138123180497, 0.9192460111438059, 0.9037106122860279, 0.9021305171156037, 0.8795587638598279, 0.8874303614566112, 0.8869829315481232, 0.892362206878119, 0.8668888332559119, 0.8497318525685688]}, {\"line\": {\"shape\": \"spline\"}, \"name\": \"Rota\\u00e7\\u00e3o 4000\", \"type\": \"scatter\", \"x\": [2.1734463456708157, 2.442014220439523, 2.512983661303602, 2.8235073982199093, 2.9213466051986, 3.057370373133243, 3.2823308322920055, 3.393116386359361, 3.3984769550946323, 3.53499492156371, 4.109435955563423], \"y\": [0.9620444765912468, 0.9587709144270335, 0.9531817225601867, 0.944317286856122, 0.9362889365985029, 0.9240793764166968, 0.9348712232554925, 0.9248731345393744, 0.9329245016461853, 0.9126142963227286, 0.8811045935185534]}, {\"line\": {\"shape\": \"spline\"}, \"name\": \"Rota\\u00e7\\u00e3o 4800\", \"type\": \"scatter\", \"x\": [2.1734463456708157, 2.442014220439523, 2.512983661303602, 2.8235073982199093, 2.9213466051986, 3.057370373133243, 3.2823308322920055, 3.393116386359361, 3.3984769550946323, 3.53499492156371, 4.109435955563423], \"y\": [0.9743556260535604, 0.972093969384667, 0.9664441409668809, 0.9609996361772479, 0.9517719401645531, 0.9398129617857846, 0.9523063994352767, 0.9506467696120192, 0.9574702086604259, 0.935053472565718, 0.9133733156999606]}],\n",
       "                        {\"hoverlabel\": {\"font\": {\"size\": 16}}, \"hovermode\": \"x\", \"template\": {\"data\": {\"bar\": [{\"error_x\": {\"color\": \"#2a3f5f\"}, \"error_y\": {\"color\": \"#2a3f5f\"}, \"marker\": {\"line\": {\"color\": \"#E5ECF6\", \"width\": 0.5}}, \"type\": \"bar\"}], \"barpolar\": [{\"marker\": {\"line\": {\"color\": \"#E5ECF6\", \"width\": 0.5}}, \"type\": \"barpolar\"}], \"carpet\": [{\"aaxis\": {\"endlinecolor\": \"#2a3f5f\", \"gridcolor\": \"white\", \"linecolor\": \"white\", \"minorgridcolor\": \"white\", \"startlinecolor\": \"#2a3f5f\"}, \"baxis\": {\"endlinecolor\": \"#2a3f5f\", \"gridcolor\": \"white\", \"linecolor\": \"white\", \"minorgridcolor\": \"white\", \"startlinecolor\": \"#2a3f5f\"}, \"type\": \"carpet\"}], \"choropleth\": [{\"colorbar\": {\"outlinewidth\": 0, \"ticks\": \"\"}, \"type\": \"choropleth\"}], \"contour\": [{\"colorbar\": {\"outlinewidth\": 0, \"ticks\": \"\"}, \"colorscale\": [[0.0, \"#0d0887\"], [0.1111111111111111, \"#46039f\"], [0.2222222222222222, \"#7201a8\"], [0.3333333333333333, \"#9c179e\"], [0.4444444444444444, \"#bd3786\"], [0.5555555555555556, \"#d8576b\"], [0.6666666666666666, \"#ed7953\"], [0.7777777777777778, \"#fb9f3a\"], [0.8888888888888888, \"#fdca26\"], [1.0, \"#f0f921\"]], \"type\": \"contour\"}], \"contourcarpet\": [{\"colorbar\": {\"outlinewidth\": 0, \"ticks\": \"\"}, \"type\": \"contourcarpet\"}], \"heatmap\": [{\"colorbar\": {\"outlinewidth\": 0, \"ticks\": \"\"}, \"colorscale\": [[0.0, \"#0d0887\"], [0.1111111111111111, \"#46039f\"], [0.2222222222222222, \"#7201a8\"], [0.3333333333333333, \"#9c179e\"], [0.4444444444444444, \"#bd3786\"], [0.5555555555555556, \"#d8576b\"], [0.6666666666666666, \"#ed7953\"], [0.7777777777777778, \"#fb9f3a\"], [0.8888888888888888, \"#fdca26\"], [1.0, \"#f0f921\"]], \"type\": \"heatmap\"}], \"heatmapgl\": [{\"colorbar\": {\"outlinewidth\": 0, \"ticks\": \"\"}, \"colorscale\": [[0.0, \"#0d0887\"], [0.1111111111111111, \"#46039f\"], [0.2222222222222222, \"#7201a8\"], [0.3333333333333333, \"#9c179e\"], [0.4444444444444444, \"#bd3786\"], [0.5555555555555556, \"#d8576b\"], [0.6666666666666666, \"#ed7953\"], [0.7777777777777778, \"#fb9f3a\"], [0.8888888888888888, \"#fdca26\"], [1.0, \"#f0f921\"]], \"type\": \"heatmapgl\"}], \"histogram\": [{\"marker\": {\"colorbar\": {\"outlinewidth\": 0, \"ticks\": \"\"}}, \"type\": \"histogram\"}], \"histogram2d\": [{\"colorbar\": {\"outlinewidth\": 0, \"ticks\": \"\"}, \"colorscale\": [[0.0, \"#0d0887\"], [0.1111111111111111, \"#46039f\"], [0.2222222222222222, \"#7201a8\"], [0.3333333333333333, \"#9c179e\"], [0.4444444444444444, \"#bd3786\"], [0.5555555555555556, \"#d8576b\"], [0.6666666666666666, \"#ed7953\"], [0.7777777777777778, \"#fb9f3a\"], [0.8888888888888888, \"#fdca26\"], [1.0, \"#f0f921\"]], \"type\": \"histogram2d\"}], \"histogram2dcontour\": [{\"colorbar\": {\"outlinewidth\": 0, \"ticks\": \"\"}, \"colorscale\": [[0.0, \"#0d0887\"], [0.1111111111111111, \"#46039f\"], [0.2222222222222222, \"#7201a8\"], [0.3333333333333333, \"#9c179e\"], [0.4444444444444444, \"#bd3786\"], [0.5555555555555556, \"#d8576b\"], [0.6666666666666666, \"#ed7953\"], [0.7777777777777778, \"#fb9f3a\"], [0.8888888888888888, \"#fdca26\"], [1.0, \"#f0f921\"]], \"type\": \"histogram2dcontour\"}], \"mesh3d\": [{\"colorbar\": {\"outlinewidth\": 0, \"ticks\": \"\"}, \"type\": \"mesh3d\"}], \"parcoords\": [{\"line\": {\"colorbar\": {\"outlinewidth\": 0, \"ticks\": \"\"}}, \"type\": \"parcoords\"}], \"pie\": [{\"automargin\": true, \"type\": \"pie\"}], \"scatter\": [{\"marker\": {\"colorbar\": {\"outlinewidth\": 0, \"ticks\": \"\"}}, \"type\": \"scatter\"}], \"scatter3d\": [{\"line\": {\"colorbar\": {\"outlinewidth\": 0, \"ticks\": \"\"}}, \"marker\": {\"colorbar\": {\"outlinewidth\": 0, \"ticks\": \"\"}}, \"type\": \"scatter3d\"}], \"scattercarpet\": [{\"marker\": {\"colorbar\": {\"outlinewidth\": 0, \"ticks\": \"\"}}, \"type\": \"scattercarpet\"}], \"scattergeo\": [{\"marker\": {\"colorbar\": {\"outlinewidth\": 0, \"ticks\": \"\"}}, \"type\": \"scattergeo\"}], \"scattergl\": [{\"marker\": {\"colorbar\": {\"outlinewidth\": 0, \"ticks\": \"\"}}, \"type\": \"scattergl\"}], \"scattermapbox\": [{\"marker\": {\"colorbar\": {\"outlinewidth\": 0, \"ticks\": \"\"}}, \"type\": \"scattermapbox\"}], \"scatterpolar\": [{\"marker\": {\"colorbar\": {\"outlinewidth\": 0, \"ticks\": \"\"}}, \"type\": \"scatterpolar\"}], \"scatterpolargl\": [{\"marker\": {\"colorbar\": {\"outlinewidth\": 0, \"ticks\": \"\"}}, \"type\": \"scatterpolargl\"}], \"scatterternary\": [{\"marker\": {\"colorbar\": {\"outlinewidth\": 0, \"ticks\": \"\"}}, \"type\": \"scatterternary\"}], \"surface\": [{\"colorbar\": {\"outlinewidth\": 0, \"ticks\": \"\"}, \"colorscale\": [[0.0, \"#0d0887\"], [0.1111111111111111, \"#46039f\"], [0.2222222222222222, \"#7201a8\"], [0.3333333333333333, \"#9c179e\"], [0.4444444444444444, \"#bd3786\"], [0.5555555555555556, \"#d8576b\"], [0.6666666666666666, \"#ed7953\"], [0.7777777777777778, \"#fb9f3a\"], [0.8888888888888888, \"#fdca26\"], [1.0, \"#f0f921\"]], \"type\": \"surface\"}], \"table\": [{\"cells\": {\"fill\": {\"color\": \"#EBF0F8\"}, \"line\": {\"color\": \"white\"}}, \"header\": {\"fill\": {\"color\": \"#C8D4E3\"}, \"line\": {\"color\": \"white\"}}, \"type\": \"table\"}]}, \"layout\": {\"annotationdefaults\": {\"arrowcolor\": \"#2a3f5f\", \"arrowhead\": 0, \"arrowwidth\": 1}, \"coloraxis\": {\"colorbar\": {\"outlinewidth\": 0, \"ticks\": \"\"}}, \"colorscale\": {\"diverging\": [[0, \"#8e0152\"], [0.1, \"#c51b7d\"], [0.2, \"#de77ae\"], [0.3, \"#f1b6da\"], [0.4, \"#fde0ef\"], [0.5, \"#f7f7f7\"], [0.6, \"#e6f5d0\"], [0.7, \"#b8e186\"], [0.8, \"#7fbc41\"], [0.9, \"#4d9221\"], [1, \"#276419\"]], \"sequential\": [[0.0, \"#0d0887\"], [0.1111111111111111, \"#46039f\"], [0.2222222222222222, \"#7201a8\"], [0.3333333333333333, \"#9c179e\"], [0.4444444444444444, \"#bd3786\"], [0.5555555555555556, \"#d8576b\"], [0.6666666666666666, \"#ed7953\"], [0.7777777777777778, \"#fb9f3a\"], [0.8888888888888888, \"#fdca26\"], [1.0, \"#f0f921\"]], \"sequentialminus\": [[0.0, \"#0d0887\"], [0.1111111111111111, \"#46039f\"], [0.2222222222222222, \"#7201a8\"], [0.3333333333333333, \"#9c179e\"], [0.4444444444444444, \"#bd3786\"], [0.5555555555555556, \"#d8576b\"], [0.6666666666666666, \"#ed7953\"], [0.7777777777777778, \"#fb9f3a\"], [0.8888888888888888, \"#fdca26\"], [1.0, \"#f0f921\"]]}, \"colorway\": [\"#636efa\", \"#EF553B\", \"#00cc96\", \"#ab63fa\", \"#FFA15A\", \"#19d3f3\", \"#FF6692\", \"#B6E880\", \"#FF97FF\", \"#FECB52\"], \"font\": {\"color\": \"#2a3f5f\"}, \"geo\": {\"bgcolor\": \"white\", \"lakecolor\": \"white\", \"landcolor\": \"#E5ECF6\", \"showlakes\": true, \"showland\": true, \"subunitcolor\": \"white\"}, \"hoverlabel\": {\"align\": \"left\"}, \"hovermode\": \"closest\", \"mapbox\": {\"style\": \"light\"}, \"paper_bgcolor\": \"white\", \"plot_bgcolor\": \"#E5ECF6\", \"polar\": {\"angularaxis\": {\"gridcolor\": \"white\", \"linecolor\": \"white\", \"ticks\": \"\"}, \"bgcolor\": \"#E5ECF6\", \"radialaxis\": {\"gridcolor\": \"white\", \"linecolor\": \"white\", \"ticks\": \"\"}}, \"scene\": {\"xaxis\": {\"backgroundcolor\": \"#E5ECF6\", \"gridcolor\": \"white\", \"gridwidth\": 2, \"linecolor\": \"white\", \"showbackground\": true, \"ticks\": \"\", \"zerolinecolor\": \"white\"}, \"yaxis\": {\"backgroundcolor\": \"#E5ECF6\", \"gridcolor\": \"white\", \"gridwidth\": 2, \"linecolor\": \"white\", \"showbackground\": true, \"ticks\": \"\", \"zerolinecolor\": \"white\"}, \"zaxis\": {\"backgroundcolor\": \"#E5ECF6\", \"gridcolor\": \"white\", \"gridwidth\": 2, \"linecolor\": \"white\", \"showbackground\": true, \"ticks\": \"\", \"zerolinecolor\": \"white\"}}, \"shapedefaults\": {\"line\": {\"color\": \"#2a3f5f\"}}, \"ternary\": {\"aaxis\": {\"gridcolor\": \"white\", \"linecolor\": \"white\", \"ticks\": \"\"}, \"baxis\": {\"gridcolor\": \"white\", \"linecolor\": \"white\", \"ticks\": \"\"}, \"bgcolor\": \"#E5ECF6\", \"caxis\": {\"gridcolor\": \"white\", \"linecolor\": \"white\", \"ticks\": \"\"}}, \"title\": {\"x\": 0.05}, \"xaxis\": {\"automargin\": true, \"gridcolor\": \"white\", \"linecolor\": \"white\", \"ticks\": \"\", \"title\": {\"standoff\": 15}, \"zerolinecolor\": \"white\", \"zerolinewidth\": 2}, \"yaxis\": {\"automargin\": true, \"gridcolor\": \"white\", \"linecolor\": \"white\", \"ticks\": \"\", \"title\": {\"standoff\": 15}, \"zerolinecolor\": \"white\", \"zerolinewidth\": 2}}}, \"title\": {\"text\": \"Varia\\u00e7\\u00e3o da Efici\\u00eancia Volum\\u00e9trica do Compressor com RP\"}, \"xaxis\": {\"title\": {\"text\": \"RP (Rela\\u00e7\\u00e3o de Press\\u00f5es Condesador/Evaporador)\"}}, \"yaxis\": {\"title\": {\"text\": \"Efici\\u00eancia Volum\\u00e9trica do Compressor\"}}},\n",
       "                        {\"responsive\": true}\n",
       "                    ).then(function(){\n",
       "                            \n",
       "var gd = document.getElementById('0267a75a-5a05-4235-ab6e-5d60079bba6d');\n",
       "var x = new MutationObserver(function (mutations, observer) {{\n",
       "        var display = window.getComputedStyle(gd).display;\n",
       "        if (!display || display === 'none') {{\n",
       "            console.log([gd, 'removed!']);\n",
       "            Plotly.purge(gd);\n",
       "            observer.disconnect();\n",
       "        }}\n",
       "}});\n",
       "\n",
       "// Listen for the removal of the full notebook cells\n",
       "var notebookContainer = gd.closest('#notebook-container');\n",
       "if (notebookContainer) {{\n",
       "    x.observe(notebookContainer, {childList: true});\n",
       "}}\n",
       "\n",
       "// Listen for the clearing of the current output cell\n",
       "var outputEl = gd.closest('.output');\n",
       "if (outputEl) {{\n",
       "    x.observe(outputEl, {childList: true});\n",
       "}}\n",
       "\n",
       "                        })\n",
       "                };\n",
       "                });\n",
       "            </script>\n",
       "        </div>"
      ]
     },
     "metadata": {},
     "output_type": "display_data"
    }
   ],
   "source": [
    "# Plotando a Variação da Eficiência Volumétrica\n",
    "fig_v = go.Figure()\n",
    "\n",
    "fig_v.add_trace(go.Scatter(x=target_data[target_data['Rot']==3000]['RP'],\n",
    "                           y=target_data[target_data['Rot']==3000]['eta_v'],\n",
    "                           hovertemplate=None,\n",
    "                           line_shape='spline',name='Rotação 3000'))\n",
    "\n",
    "fig_v.add_trace(go.Scatter(x=target_data[target_data['Rot']==4000]['RP'],\n",
    "                           y=target_data[target_data['Rot']==4000]['eta_v'],\n",
    "                           hovertemplate=None,\n",
    "                           line_shape='spline',name='Rotação 4000'))\n",
    "\n",
    "fig_v.add_trace(go.Scatter(x=target_data[target_data['Rot']==4800]['RP'],\n",
    "                           y=target_data[target_data['Rot']==4800]['eta_v'],\n",
    "                           hovertemplate=None,\n",
    "                           line_shape='spline',name='Rotação 4800'))\n",
    "\n",
    "fig_v.update_layout(title='Variação da Eficiência Volumétrica do Compressor com RP',\n",
    "                   xaxis_title='RP (Relação de Pressões Condesador/Evaporador)',\n",
    "                   yaxis_title='Eficiência Volumétrica do Compressor',hovermode='x')\n",
    "\n",
    "fig_v.update_layout(\n",
    "    hoverlabel=dict( \n",
    "        font_size=16))\n",
    "   \n",
    "fig_v.show()"
   ]
  },
  {
   "cell_type": "code",
   "execution_count": 23,
   "metadata": {},
   "outputs": [
    {
     "data": {
      "application/vnd.plotly.v1+json": {
       "config": {
        "plotlyServerURL": "https://plot.ly"
       },
       "data": [
        {
         "line": {
          "shape": "spline"
         },
         "name": "Rotação 3000",
         "type": "scatter",
         "x": [
          2.1734463456708157,
          2.442014220439523,
          2.512983661303602,
          2.8235073982199093,
          2.9213466051986,
          3.057370373133243,
          3.2823308322920055,
          3.393116386359361,
          3.3984769550946323,
          3.53499492156371,
          4.109435955563423
         ],
         "y": [
          0.734964983184296,
          0.746778683786984,
          0.7488988269102561,
          0.7361603590893009,
          0.7304757461390536,
          0.7018220250738636,
          0.7217231125783418,
          0.715738414519286,
          0.7270629965079871,
          0.695436474335969,
          0.6718297941470769
         ]
        },
        {
         "line": {
          "shape": "spline"
         },
         "name": "Rotação 4000",
         "type": "scatter",
         "x": [
          2.1734463456708157,
          2.442014220439523,
          2.512983661303602,
          2.8235073982199093,
          2.9213466051986,
          3.057370373133243,
          3.2823308322920055,
          3.393116386359361,
          3.3984769550946323,
          3.53499492156371,
          4.109435955563423
         ],
         "y": [
          0.7225450958913732,
          0.7307518462630858,
          0.729195304589241,
          0.7289834321478108,
          0.7180461376438704,
          0.7009384309504898,
          0.7224633257866965,
          0.7156740127143848,
          0.7262537131748521,
          0.6995163872931917,
          0.6811981177604249
         ]
        },
        {
         "line": {
          "shape": "spline"
         },
         "name": "Rotação 4800",
         "type": "scatter",
         "x": [
          2.1734463456708157,
          2.442014220439523,
          2.512983661303602,
          2.8235073982199093,
          2.9213466051986,
          3.057370373133243,
          3.2823308322920055,
          3.393116386359361,
          3.3984769550946323,
          3.53499492156371,
          4.109435955563423
         ],
         "y": [
          0.6884499214536532,
          0.7041894708686866,
          0.7033935810320674,
          0.7080652633608817,
          0.6830397454136945,
          0.691278373948335,
          0.7074879263324464,
          0.7056103426975616,
          0.7118929425459061,
          0.6915922634865059,
          0.6733500477600514
         ]
        }
       ],
       "layout": {
        "hoverlabel": {
         "font": {
          "size": 16
         }
        },
        "hovermode": "x",
        "template": {
         "data": {
          "bar": [
           {
            "error_x": {
             "color": "#2a3f5f"
            },
            "error_y": {
             "color": "#2a3f5f"
            },
            "marker": {
             "line": {
              "color": "#E5ECF6",
              "width": 0.5
             }
            },
            "type": "bar"
           }
          ],
          "barpolar": [
           {
            "marker": {
             "line": {
              "color": "#E5ECF6",
              "width": 0.5
             }
            },
            "type": "barpolar"
           }
          ],
          "carpet": [
           {
            "aaxis": {
             "endlinecolor": "#2a3f5f",
             "gridcolor": "white",
             "linecolor": "white",
             "minorgridcolor": "white",
             "startlinecolor": "#2a3f5f"
            },
            "baxis": {
             "endlinecolor": "#2a3f5f",
             "gridcolor": "white",
             "linecolor": "white",
             "minorgridcolor": "white",
             "startlinecolor": "#2a3f5f"
            },
            "type": "carpet"
           }
          ],
          "choropleth": [
           {
            "colorbar": {
             "outlinewidth": 0,
             "ticks": ""
            },
            "type": "choropleth"
           }
          ],
          "contour": [
           {
            "colorbar": {
             "outlinewidth": 0,
             "ticks": ""
            },
            "colorscale": [
             [
              0,
              "#0d0887"
             ],
             [
              0.1111111111111111,
              "#46039f"
             ],
             [
              0.2222222222222222,
              "#7201a8"
             ],
             [
              0.3333333333333333,
              "#9c179e"
             ],
             [
              0.4444444444444444,
              "#bd3786"
             ],
             [
              0.5555555555555556,
              "#d8576b"
             ],
             [
              0.6666666666666666,
              "#ed7953"
             ],
             [
              0.7777777777777778,
              "#fb9f3a"
             ],
             [
              0.8888888888888888,
              "#fdca26"
             ],
             [
              1,
              "#f0f921"
             ]
            ],
            "type": "contour"
           }
          ],
          "contourcarpet": [
           {
            "colorbar": {
             "outlinewidth": 0,
             "ticks": ""
            },
            "type": "contourcarpet"
           }
          ],
          "heatmap": [
           {
            "colorbar": {
             "outlinewidth": 0,
             "ticks": ""
            },
            "colorscale": [
             [
              0,
              "#0d0887"
             ],
             [
              0.1111111111111111,
              "#46039f"
             ],
             [
              0.2222222222222222,
              "#7201a8"
             ],
             [
              0.3333333333333333,
              "#9c179e"
             ],
             [
              0.4444444444444444,
              "#bd3786"
             ],
             [
              0.5555555555555556,
              "#d8576b"
             ],
             [
              0.6666666666666666,
              "#ed7953"
             ],
             [
              0.7777777777777778,
              "#fb9f3a"
             ],
             [
              0.8888888888888888,
              "#fdca26"
             ],
             [
              1,
              "#f0f921"
             ]
            ],
            "type": "heatmap"
           }
          ],
          "heatmapgl": [
           {
            "colorbar": {
             "outlinewidth": 0,
             "ticks": ""
            },
            "colorscale": [
             [
              0,
              "#0d0887"
             ],
             [
              0.1111111111111111,
              "#46039f"
             ],
             [
              0.2222222222222222,
              "#7201a8"
             ],
             [
              0.3333333333333333,
              "#9c179e"
             ],
             [
              0.4444444444444444,
              "#bd3786"
             ],
             [
              0.5555555555555556,
              "#d8576b"
             ],
             [
              0.6666666666666666,
              "#ed7953"
             ],
             [
              0.7777777777777778,
              "#fb9f3a"
             ],
             [
              0.8888888888888888,
              "#fdca26"
             ],
             [
              1,
              "#f0f921"
             ]
            ],
            "type": "heatmapgl"
           }
          ],
          "histogram": [
           {
            "marker": {
             "colorbar": {
              "outlinewidth": 0,
              "ticks": ""
             }
            },
            "type": "histogram"
           }
          ],
          "histogram2d": [
           {
            "colorbar": {
             "outlinewidth": 0,
             "ticks": ""
            },
            "colorscale": [
             [
              0,
              "#0d0887"
             ],
             [
              0.1111111111111111,
              "#46039f"
             ],
             [
              0.2222222222222222,
              "#7201a8"
             ],
             [
              0.3333333333333333,
              "#9c179e"
             ],
             [
              0.4444444444444444,
              "#bd3786"
             ],
             [
              0.5555555555555556,
              "#d8576b"
             ],
             [
              0.6666666666666666,
              "#ed7953"
             ],
             [
              0.7777777777777778,
              "#fb9f3a"
             ],
             [
              0.8888888888888888,
              "#fdca26"
             ],
             [
              1,
              "#f0f921"
             ]
            ],
            "type": "histogram2d"
           }
          ],
          "histogram2dcontour": [
           {
            "colorbar": {
             "outlinewidth": 0,
             "ticks": ""
            },
            "colorscale": [
             [
              0,
              "#0d0887"
             ],
             [
              0.1111111111111111,
              "#46039f"
             ],
             [
              0.2222222222222222,
              "#7201a8"
             ],
             [
              0.3333333333333333,
              "#9c179e"
             ],
             [
              0.4444444444444444,
              "#bd3786"
             ],
             [
              0.5555555555555556,
              "#d8576b"
             ],
             [
              0.6666666666666666,
              "#ed7953"
             ],
             [
              0.7777777777777778,
              "#fb9f3a"
             ],
             [
              0.8888888888888888,
              "#fdca26"
             ],
             [
              1,
              "#f0f921"
             ]
            ],
            "type": "histogram2dcontour"
           }
          ],
          "mesh3d": [
           {
            "colorbar": {
             "outlinewidth": 0,
             "ticks": ""
            },
            "type": "mesh3d"
           }
          ],
          "parcoords": [
           {
            "line": {
             "colorbar": {
              "outlinewidth": 0,
              "ticks": ""
             }
            },
            "type": "parcoords"
           }
          ],
          "pie": [
           {
            "automargin": true,
            "type": "pie"
           }
          ],
          "scatter": [
           {
            "marker": {
             "colorbar": {
              "outlinewidth": 0,
              "ticks": ""
             }
            },
            "type": "scatter"
           }
          ],
          "scatter3d": [
           {
            "line": {
             "colorbar": {
              "outlinewidth": 0,
              "ticks": ""
             }
            },
            "marker": {
             "colorbar": {
              "outlinewidth": 0,
              "ticks": ""
             }
            },
            "type": "scatter3d"
           }
          ],
          "scattercarpet": [
           {
            "marker": {
             "colorbar": {
              "outlinewidth": 0,
              "ticks": ""
             }
            },
            "type": "scattercarpet"
           }
          ],
          "scattergeo": [
           {
            "marker": {
             "colorbar": {
              "outlinewidth": 0,
              "ticks": ""
             }
            },
            "type": "scattergeo"
           }
          ],
          "scattergl": [
           {
            "marker": {
             "colorbar": {
              "outlinewidth": 0,
              "ticks": ""
             }
            },
            "type": "scattergl"
           }
          ],
          "scattermapbox": [
           {
            "marker": {
             "colorbar": {
              "outlinewidth": 0,
              "ticks": ""
             }
            },
            "type": "scattermapbox"
           }
          ],
          "scatterpolar": [
           {
            "marker": {
             "colorbar": {
              "outlinewidth": 0,
              "ticks": ""
             }
            },
            "type": "scatterpolar"
           }
          ],
          "scatterpolargl": [
           {
            "marker": {
             "colorbar": {
              "outlinewidth": 0,
              "ticks": ""
             }
            },
            "type": "scatterpolargl"
           }
          ],
          "scatterternary": [
           {
            "marker": {
             "colorbar": {
              "outlinewidth": 0,
              "ticks": ""
             }
            },
            "type": "scatterternary"
           }
          ],
          "surface": [
           {
            "colorbar": {
             "outlinewidth": 0,
             "ticks": ""
            },
            "colorscale": [
             [
              0,
              "#0d0887"
             ],
             [
              0.1111111111111111,
              "#46039f"
             ],
             [
              0.2222222222222222,
              "#7201a8"
             ],
             [
              0.3333333333333333,
              "#9c179e"
             ],
             [
              0.4444444444444444,
              "#bd3786"
             ],
             [
              0.5555555555555556,
              "#d8576b"
             ],
             [
              0.6666666666666666,
              "#ed7953"
             ],
             [
              0.7777777777777778,
              "#fb9f3a"
             ],
             [
              0.8888888888888888,
              "#fdca26"
             ],
             [
              1,
              "#f0f921"
             ]
            ],
            "type": "surface"
           }
          ],
          "table": [
           {
            "cells": {
             "fill": {
              "color": "#EBF0F8"
             },
             "line": {
              "color": "white"
             }
            },
            "header": {
             "fill": {
              "color": "#C8D4E3"
             },
             "line": {
              "color": "white"
             }
            },
            "type": "table"
           }
          ]
         },
         "layout": {
          "annotationdefaults": {
           "arrowcolor": "#2a3f5f",
           "arrowhead": 0,
           "arrowwidth": 1
          },
          "coloraxis": {
           "colorbar": {
            "outlinewidth": 0,
            "ticks": ""
           }
          },
          "colorscale": {
           "diverging": [
            [
             0,
             "#8e0152"
            ],
            [
             0.1,
             "#c51b7d"
            ],
            [
             0.2,
             "#de77ae"
            ],
            [
             0.3,
             "#f1b6da"
            ],
            [
             0.4,
             "#fde0ef"
            ],
            [
             0.5,
             "#f7f7f7"
            ],
            [
             0.6,
             "#e6f5d0"
            ],
            [
             0.7,
             "#b8e186"
            ],
            [
             0.8,
             "#7fbc41"
            ],
            [
             0.9,
             "#4d9221"
            ],
            [
             1,
             "#276419"
            ]
           ],
           "sequential": [
            [
             0,
             "#0d0887"
            ],
            [
             0.1111111111111111,
             "#46039f"
            ],
            [
             0.2222222222222222,
             "#7201a8"
            ],
            [
             0.3333333333333333,
             "#9c179e"
            ],
            [
             0.4444444444444444,
             "#bd3786"
            ],
            [
             0.5555555555555556,
             "#d8576b"
            ],
            [
             0.6666666666666666,
             "#ed7953"
            ],
            [
             0.7777777777777778,
             "#fb9f3a"
            ],
            [
             0.8888888888888888,
             "#fdca26"
            ],
            [
             1,
             "#f0f921"
            ]
           ],
           "sequentialminus": [
            [
             0,
             "#0d0887"
            ],
            [
             0.1111111111111111,
             "#46039f"
            ],
            [
             0.2222222222222222,
             "#7201a8"
            ],
            [
             0.3333333333333333,
             "#9c179e"
            ],
            [
             0.4444444444444444,
             "#bd3786"
            ],
            [
             0.5555555555555556,
             "#d8576b"
            ],
            [
             0.6666666666666666,
             "#ed7953"
            ],
            [
             0.7777777777777778,
             "#fb9f3a"
            ],
            [
             0.8888888888888888,
             "#fdca26"
            ],
            [
             1,
             "#f0f921"
            ]
           ]
          },
          "colorway": [
           "#636efa",
           "#EF553B",
           "#00cc96",
           "#ab63fa",
           "#FFA15A",
           "#19d3f3",
           "#FF6692",
           "#B6E880",
           "#FF97FF",
           "#FECB52"
          ],
          "font": {
           "color": "#2a3f5f"
          },
          "geo": {
           "bgcolor": "white",
           "lakecolor": "white",
           "landcolor": "#E5ECF6",
           "showlakes": true,
           "showland": true,
           "subunitcolor": "white"
          },
          "hoverlabel": {
           "align": "left"
          },
          "hovermode": "closest",
          "mapbox": {
           "style": "light"
          },
          "paper_bgcolor": "white",
          "plot_bgcolor": "#E5ECF6",
          "polar": {
           "angularaxis": {
            "gridcolor": "white",
            "linecolor": "white",
            "ticks": ""
           },
           "bgcolor": "#E5ECF6",
           "radialaxis": {
            "gridcolor": "white",
            "linecolor": "white",
            "ticks": ""
           }
          },
          "scene": {
           "xaxis": {
            "backgroundcolor": "#E5ECF6",
            "gridcolor": "white",
            "gridwidth": 2,
            "linecolor": "white",
            "showbackground": true,
            "ticks": "",
            "zerolinecolor": "white"
           },
           "yaxis": {
            "backgroundcolor": "#E5ECF6",
            "gridcolor": "white",
            "gridwidth": 2,
            "linecolor": "white",
            "showbackground": true,
            "ticks": "",
            "zerolinecolor": "white"
           },
           "zaxis": {
            "backgroundcolor": "#E5ECF6",
            "gridcolor": "white",
            "gridwidth": 2,
            "linecolor": "white",
            "showbackground": true,
            "ticks": "",
            "zerolinecolor": "white"
           }
          },
          "shapedefaults": {
           "line": {
            "color": "#2a3f5f"
           }
          },
          "ternary": {
           "aaxis": {
            "gridcolor": "white",
            "linecolor": "white",
            "ticks": ""
           },
           "baxis": {
            "gridcolor": "white",
            "linecolor": "white",
            "ticks": ""
           },
           "bgcolor": "#E5ECF6",
           "caxis": {
            "gridcolor": "white",
            "linecolor": "white",
            "ticks": ""
           }
          },
          "title": {
           "x": 0.05
          },
          "xaxis": {
           "automargin": true,
           "gridcolor": "white",
           "linecolor": "white",
           "ticks": "",
           "title": {
            "standoff": 15
           },
           "zerolinecolor": "white",
           "zerolinewidth": 2
          },
          "yaxis": {
           "automargin": true,
           "gridcolor": "white",
           "linecolor": "white",
           "ticks": "",
           "title": {
            "standoff": 15
           },
           "zerolinecolor": "white",
           "zerolinewidth": 2
          }
         }
        },
        "title": {
         "text": "Variação da Eficiência Global do Compressor com RP"
        },
        "xaxis": {
         "title": {
          "text": "RP (Relação de Pressões Condesador/Evaporador)"
         }
        },
        "yaxis": {
         "title": {
          "text": "Eficiência Global do Compressor"
         }
        }
       }
      },
      "text/html": [
       "<div>\n",
       "        \n",
       "        \n",
       "            <div id=\"e5978f1d-b98d-4c3b-9d58-4dac3a84f026\" class=\"plotly-graph-div\" style=\"height:525px; width:100%;\"></div>\n",
       "            <script type=\"text/javascript\">\n",
       "                require([\"plotly\"], function(Plotly) {\n",
       "                    window.PLOTLYENV=window.PLOTLYENV || {};\n",
       "                    \n",
       "                if (document.getElementById(\"e5978f1d-b98d-4c3b-9d58-4dac3a84f026\")) {\n",
       "                    Plotly.newPlot(\n",
       "                        'e5978f1d-b98d-4c3b-9d58-4dac3a84f026',\n",
       "                        [{\"line\": {\"shape\": \"spline\"}, \"name\": \"Rota\\u00e7\\u00e3o 3000\", \"type\": \"scatter\", \"x\": [2.1734463456708157, 2.442014220439523, 2.512983661303602, 2.8235073982199093, 2.9213466051986, 3.057370373133243, 3.2823308322920055, 3.393116386359361, 3.3984769550946323, 3.53499492156371, 4.109435955563423], \"y\": [0.734964983184296, 0.746778683786984, 0.7488988269102561, 0.7361603590893009, 0.7304757461390536, 0.7018220250738636, 0.7217231125783418, 0.715738414519286, 0.7270629965079871, 0.695436474335969, 0.6718297941470769]}, {\"line\": {\"shape\": \"spline\"}, \"name\": \"Rota\\u00e7\\u00e3o 4000\", \"type\": \"scatter\", \"x\": [2.1734463456708157, 2.442014220439523, 2.512983661303602, 2.8235073982199093, 2.9213466051986, 3.057370373133243, 3.2823308322920055, 3.393116386359361, 3.3984769550946323, 3.53499492156371, 4.109435955563423], \"y\": [0.7225450958913732, 0.7307518462630858, 0.729195304589241, 0.7289834321478108, 0.7180461376438704, 0.7009384309504898, 0.7224633257866965, 0.7156740127143848, 0.7262537131748521, 0.6995163872931917, 0.6811981177604249]}, {\"line\": {\"shape\": \"spline\"}, \"name\": \"Rota\\u00e7\\u00e3o 4800\", \"type\": \"scatter\", \"x\": [2.1734463456708157, 2.442014220439523, 2.512983661303602, 2.8235073982199093, 2.9213466051986, 3.057370373133243, 3.2823308322920055, 3.393116386359361, 3.3984769550946323, 3.53499492156371, 4.109435955563423], \"y\": [0.6884499214536532, 0.7041894708686866, 0.7033935810320674, 0.7080652633608817, 0.6830397454136945, 0.691278373948335, 0.7074879263324464, 0.7056103426975616, 0.7118929425459061, 0.6915922634865059, 0.6733500477600514]}],\n",
       "                        {\"hoverlabel\": {\"font\": {\"size\": 16}}, \"hovermode\": \"x\", \"template\": {\"data\": {\"bar\": [{\"error_x\": {\"color\": \"#2a3f5f\"}, \"error_y\": {\"color\": \"#2a3f5f\"}, \"marker\": {\"line\": {\"color\": \"#E5ECF6\", \"width\": 0.5}}, \"type\": \"bar\"}], \"barpolar\": [{\"marker\": {\"line\": {\"color\": \"#E5ECF6\", \"width\": 0.5}}, \"type\": \"barpolar\"}], \"carpet\": [{\"aaxis\": {\"endlinecolor\": \"#2a3f5f\", \"gridcolor\": \"white\", \"linecolor\": \"white\", \"minorgridcolor\": \"white\", \"startlinecolor\": \"#2a3f5f\"}, \"baxis\": {\"endlinecolor\": \"#2a3f5f\", \"gridcolor\": \"white\", \"linecolor\": \"white\", \"minorgridcolor\": \"white\", \"startlinecolor\": \"#2a3f5f\"}, \"type\": \"carpet\"}], \"choropleth\": [{\"colorbar\": {\"outlinewidth\": 0, \"ticks\": \"\"}, \"type\": \"choropleth\"}], \"contour\": [{\"colorbar\": {\"outlinewidth\": 0, \"ticks\": \"\"}, \"colorscale\": [[0.0, \"#0d0887\"], [0.1111111111111111, \"#46039f\"], [0.2222222222222222, \"#7201a8\"], [0.3333333333333333, \"#9c179e\"], [0.4444444444444444, \"#bd3786\"], [0.5555555555555556, \"#d8576b\"], [0.6666666666666666, \"#ed7953\"], [0.7777777777777778, \"#fb9f3a\"], [0.8888888888888888, \"#fdca26\"], [1.0, \"#f0f921\"]], \"type\": \"contour\"}], \"contourcarpet\": [{\"colorbar\": {\"outlinewidth\": 0, \"ticks\": \"\"}, \"type\": \"contourcarpet\"}], \"heatmap\": [{\"colorbar\": {\"outlinewidth\": 0, \"ticks\": \"\"}, \"colorscale\": [[0.0, \"#0d0887\"], [0.1111111111111111, \"#46039f\"], [0.2222222222222222, \"#7201a8\"], [0.3333333333333333, \"#9c179e\"], [0.4444444444444444, \"#bd3786\"], [0.5555555555555556, \"#d8576b\"], [0.6666666666666666, \"#ed7953\"], [0.7777777777777778, \"#fb9f3a\"], [0.8888888888888888, \"#fdca26\"], [1.0, \"#f0f921\"]], \"type\": \"heatmap\"}], \"heatmapgl\": [{\"colorbar\": {\"outlinewidth\": 0, \"ticks\": \"\"}, \"colorscale\": [[0.0, \"#0d0887\"], [0.1111111111111111, \"#46039f\"], [0.2222222222222222, \"#7201a8\"], [0.3333333333333333, \"#9c179e\"], [0.4444444444444444, \"#bd3786\"], [0.5555555555555556, \"#d8576b\"], [0.6666666666666666, \"#ed7953\"], [0.7777777777777778, \"#fb9f3a\"], [0.8888888888888888, \"#fdca26\"], [1.0, \"#f0f921\"]], \"type\": \"heatmapgl\"}], \"histogram\": [{\"marker\": {\"colorbar\": {\"outlinewidth\": 0, \"ticks\": \"\"}}, \"type\": \"histogram\"}], \"histogram2d\": [{\"colorbar\": {\"outlinewidth\": 0, \"ticks\": \"\"}, \"colorscale\": [[0.0, \"#0d0887\"], [0.1111111111111111, \"#46039f\"], [0.2222222222222222, \"#7201a8\"], [0.3333333333333333, \"#9c179e\"], [0.4444444444444444, \"#bd3786\"], [0.5555555555555556, \"#d8576b\"], [0.6666666666666666, \"#ed7953\"], [0.7777777777777778, \"#fb9f3a\"], [0.8888888888888888, \"#fdca26\"], [1.0, \"#f0f921\"]], \"type\": \"histogram2d\"}], \"histogram2dcontour\": [{\"colorbar\": {\"outlinewidth\": 0, \"ticks\": \"\"}, \"colorscale\": [[0.0, \"#0d0887\"], [0.1111111111111111, \"#46039f\"], [0.2222222222222222, \"#7201a8\"], [0.3333333333333333, \"#9c179e\"], [0.4444444444444444, \"#bd3786\"], [0.5555555555555556, \"#d8576b\"], [0.6666666666666666, \"#ed7953\"], [0.7777777777777778, \"#fb9f3a\"], [0.8888888888888888, \"#fdca26\"], [1.0, \"#f0f921\"]], \"type\": \"histogram2dcontour\"}], \"mesh3d\": [{\"colorbar\": {\"outlinewidth\": 0, \"ticks\": \"\"}, \"type\": \"mesh3d\"}], \"parcoords\": [{\"line\": {\"colorbar\": {\"outlinewidth\": 0, \"ticks\": \"\"}}, \"type\": \"parcoords\"}], \"pie\": [{\"automargin\": true, \"type\": \"pie\"}], \"scatter\": [{\"marker\": {\"colorbar\": {\"outlinewidth\": 0, \"ticks\": \"\"}}, \"type\": \"scatter\"}], \"scatter3d\": [{\"line\": {\"colorbar\": {\"outlinewidth\": 0, \"ticks\": \"\"}}, \"marker\": {\"colorbar\": {\"outlinewidth\": 0, \"ticks\": \"\"}}, \"type\": \"scatter3d\"}], \"scattercarpet\": [{\"marker\": {\"colorbar\": {\"outlinewidth\": 0, \"ticks\": \"\"}}, \"type\": \"scattercarpet\"}], \"scattergeo\": [{\"marker\": {\"colorbar\": {\"outlinewidth\": 0, \"ticks\": \"\"}}, \"type\": \"scattergeo\"}], \"scattergl\": [{\"marker\": {\"colorbar\": {\"outlinewidth\": 0, \"ticks\": \"\"}}, \"type\": \"scattergl\"}], \"scattermapbox\": [{\"marker\": {\"colorbar\": {\"outlinewidth\": 0, \"ticks\": \"\"}}, \"type\": \"scattermapbox\"}], \"scatterpolar\": [{\"marker\": {\"colorbar\": {\"outlinewidth\": 0, \"ticks\": \"\"}}, \"type\": \"scatterpolar\"}], \"scatterpolargl\": [{\"marker\": {\"colorbar\": {\"outlinewidth\": 0, \"ticks\": \"\"}}, \"type\": \"scatterpolargl\"}], \"scatterternary\": [{\"marker\": {\"colorbar\": {\"outlinewidth\": 0, \"ticks\": \"\"}}, \"type\": \"scatterternary\"}], \"surface\": [{\"colorbar\": {\"outlinewidth\": 0, \"ticks\": \"\"}, \"colorscale\": [[0.0, \"#0d0887\"], [0.1111111111111111, \"#46039f\"], [0.2222222222222222, \"#7201a8\"], [0.3333333333333333, \"#9c179e\"], [0.4444444444444444, \"#bd3786\"], [0.5555555555555556, \"#d8576b\"], [0.6666666666666666, \"#ed7953\"], [0.7777777777777778, \"#fb9f3a\"], [0.8888888888888888, \"#fdca26\"], [1.0, \"#f0f921\"]], \"type\": \"surface\"}], \"table\": [{\"cells\": {\"fill\": {\"color\": \"#EBF0F8\"}, \"line\": {\"color\": \"white\"}}, \"header\": {\"fill\": {\"color\": \"#C8D4E3\"}, \"line\": {\"color\": \"white\"}}, \"type\": \"table\"}]}, \"layout\": {\"annotationdefaults\": {\"arrowcolor\": \"#2a3f5f\", \"arrowhead\": 0, \"arrowwidth\": 1}, \"coloraxis\": {\"colorbar\": {\"outlinewidth\": 0, \"ticks\": \"\"}}, \"colorscale\": {\"diverging\": [[0, \"#8e0152\"], [0.1, \"#c51b7d\"], [0.2, \"#de77ae\"], [0.3, \"#f1b6da\"], [0.4, \"#fde0ef\"], [0.5, \"#f7f7f7\"], [0.6, \"#e6f5d0\"], [0.7, \"#b8e186\"], [0.8, \"#7fbc41\"], [0.9, \"#4d9221\"], [1, \"#276419\"]], \"sequential\": [[0.0, \"#0d0887\"], [0.1111111111111111, \"#46039f\"], [0.2222222222222222, \"#7201a8\"], [0.3333333333333333, \"#9c179e\"], [0.4444444444444444, \"#bd3786\"], [0.5555555555555556, \"#d8576b\"], [0.6666666666666666, \"#ed7953\"], [0.7777777777777778, \"#fb9f3a\"], [0.8888888888888888, \"#fdca26\"], [1.0, \"#f0f921\"]], \"sequentialminus\": [[0.0, \"#0d0887\"], [0.1111111111111111, \"#46039f\"], [0.2222222222222222, \"#7201a8\"], [0.3333333333333333, \"#9c179e\"], [0.4444444444444444, \"#bd3786\"], [0.5555555555555556, \"#d8576b\"], [0.6666666666666666, \"#ed7953\"], [0.7777777777777778, \"#fb9f3a\"], [0.8888888888888888, \"#fdca26\"], [1.0, \"#f0f921\"]]}, \"colorway\": [\"#636efa\", \"#EF553B\", \"#00cc96\", \"#ab63fa\", \"#FFA15A\", \"#19d3f3\", \"#FF6692\", \"#B6E880\", \"#FF97FF\", \"#FECB52\"], \"font\": {\"color\": \"#2a3f5f\"}, \"geo\": {\"bgcolor\": \"white\", \"lakecolor\": \"white\", \"landcolor\": \"#E5ECF6\", \"showlakes\": true, \"showland\": true, \"subunitcolor\": \"white\"}, \"hoverlabel\": {\"align\": \"left\"}, \"hovermode\": \"closest\", \"mapbox\": {\"style\": \"light\"}, \"paper_bgcolor\": \"white\", \"plot_bgcolor\": \"#E5ECF6\", \"polar\": {\"angularaxis\": {\"gridcolor\": \"white\", \"linecolor\": \"white\", \"ticks\": \"\"}, \"bgcolor\": \"#E5ECF6\", \"radialaxis\": {\"gridcolor\": \"white\", \"linecolor\": \"white\", \"ticks\": \"\"}}, \"scene\": {\"xaxis\": {\"backgroundcolor\": \"#E5ECF6\", \"gridcolor\": \"white\", \"gridwidth\": 2, \"linecolor\": \"white\", \"showbackground\": true, \"ticks\": \"\", \"zerolinecolor\": \"white\"}, \"yaxis\": {\"backgroundcolor\": \"#E5ECF6\", \"gridcolor\": \"white\", \"gridwidth\": 2, \"linecolor\": \"white\", \"showbackground\": true, \"ticks\": \"\", \"zerolinecolor\": \"white\"}, \"zaxis\": {\"backgroundcolor\": \"#E5ECF6\", \"gridcolor\": \"white\", \"gridwidth\": 2, \"linecolor\": \"white\", \"showbackground\": true, \"ticks\": \"\", \"zerolinecolor\": \"white\"}}, \"shapedefaults\": {\"line\": {\"color\": \"#2a3f5f\"}}, \"ternary\": {\"aaxis\": {\"gridcolor\": \"white\", \"linecolor\": \"white\", \"ticks\": \"\"}, \"baxis\": {\"gridcolor\": \"white\", \"linecolor\": \"white\", \"ticks\": \"\"}, \"bgcolor\": \"#E5ECF6\", \"caxis\": {\"gridcolor\": \"white\", \"linecolor\": \"white\", \"ticks\": \"\"}}, \"title\": {\"x\": 0.05}, \"xaxis\": {\"automargin\": true, \"gridcolor\": \"white\", \"linecolor\": \"white\", \"ticks\": \"\", \"title\": {\"standoff\": 15}, \"zerolinecolor\": \"white\", \"zerolinewidth\": 2}, \"yaxis\": {\"automargin\": true, \"gridcolor\": \"white\", \"linecolor\": \"white\", \"ticks\": \"\", \"title\": {\"standoff\": 15}, \"zerolinecolor\": \"white\", \"zerolinewidth\": 2}}}, \"title\": {\"text\": \"Varia\\u00e7\\u00e3o da Efici\\u00eancia Global do Compressor com RP\"}, \"xaxis\": {\"title\": {\"text\": \"RP (Rela\\u00e7\\u00e3o de Press\\u00f5es Condesador/Evaporador)\"}}, \"yaxis\": {\"title\": {\"text\": \"Efici\\u00eancia Global do Compressor\"}}},\n",
       "                        {\"responsive\": true}\n",
       "                    ).then(function(){\n",
       "                            \n",
       "var gd = document.getElementById('e5978f1d-b98d-4c3b-9d58-4dac3a84f026');\n",
       "var x = new MutationObserver(function (mutations, observer) {{\n",
       "        var display = window.getComputedStyle(gd).display;\n",
       "        if (!display || display === 'none') {{\n",
       "            console.log([gd, 'removed!']);\n",
       "            Plotly.purge(gd);\n",
       "            observer.disconnect();\n",
       "        }}\n",
       "}});\n",
       "\n",
       "// Listen for the removal of the full notebook cells\n",
       "var notebookContainer = gd.closest('#notebook-container');\n",
       "if (notebookContainer) {{\n",
       "    x.observe(notebookContainer, {childList: true});\n",
       "}}\n",
       "\n",
       "// Listen for the clearing of the current output cell\n",
       "var outputEl = gd.closest('.output');\n",
       "if (outputEl) {{\n",
       "    x.observe(outputEl, {childList: true});\n",
       "}}\n",
       "\n",
       "                        })\n",
       "                };\n",
       "                });\n",
       "            </script>\n",
       "        </div>"
      ]
     },
     "metadata": {},
     "output_type": "display_data"
    }
   ],
   "source": [
    "# Plotando a Variação da Eficiência Volumétrica\n",
    "fig_v = go.Figure()\n",
    "\n",
    "fig_v.add_trace(go.Scatter(x=target_data[target_data['Rot']==3000]['RP'],\n",
    "                           y=target_data[target_data['Rot']==3000]['eta_g'],\n",
    "                           hovertemplate=None,\n",
    "                           line_shape='spline',name='Rotação 3000'))\n",
    "\n",
    "fig_v.add_trace(go.Scatter(x=target_data[target_data['Rot']==4000]['RP'],\n",
    "                           y=target_data[target_data['Rot']==4000]['eta_g'],\n",
    "                           hovertemplate=None,\n",
    "                           line_shape='spline',name='Rotação 4000'))\n",
    "\n",
    "fig_v.add_trace(go.Scatter(x=target_data[target_data['Rot']==4800]['RP'],\n",
    "                           y=target_data[target_data['Rot']==4800]['eta_g'],\n",
    "                           hovertemplate=None,\n",
    "                           line_shape='spline',name='Rotação 4800'))\n",
    "\n",
    "fig_v.update_layout(title='Variação da Eficiência Global do Compressor com RP',\n",
    "                   xaxis_title='RP (Relação de Pressões Condesador/Evaporador)',\n",
    "                   yaxis_title='Eficiência Global do Compressor',hovermode='x')\n",
    "\n",
    "fig_v.update_layout(\n",
    "    hoverlabel=dict( \n",
    "        font_size=16))\n",
    "   \n",
    "fig_v.show()"
   ]
  },
  {
   "cell_type": "code",
   "execution_count": null,
   "metadata": {},
   "outputs": [],
   "source": []
  }
 ],
 "metadata": {
  "kernelspec": {
   "display_name": "Python 3",
   "language": "python",
   "name": "python3"
  },
  "language_info": {
   "codemirror_mode": {
    "name": "ipython",
    "version": 3
   },
   "file_extension": ".py",
   "mimetype": "text/x-python",
   "name": "python",
   "nbconvert_exporter": "python",
   "pygments_lexer": "ipython3",
   "version": "3.7.6"
  }
 },
 "nbformat": 4,
 "nbformat_minor": 4
}
